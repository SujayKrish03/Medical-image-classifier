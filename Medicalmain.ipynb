{
  "cells": [
    {
      "cell_type": "markdown",
      "metadata": {
        "id": "view-in-github",
        "colab_type": "text"
      },
      "source": [
        "<a href=\"https://colab.research.google.com/github/SujayKrish03/Medical-image-classifier/blob/main/Medicalmain.ipynb\" target=\"_parent\"><img src=\"https://colab.research.google.com/assets/colab-badge.svg\" alt=\"Open In Colab\"/></a>"
      ]
    },
    {
      "cell_type": "markdown",
      "metadata": {
        "id": "hf6ylviySRC5"
      },
      "source": [
        "                                        **Medical and Non Medical Image Classifier**\n",
        "\n",
        "\n"
      ]
    },
    {
      "cell_type": "markdown",
      "metadata": {
        "id": "zGh4csyHQ4v-"
      },
      "source": [
        "The code imports libraries for building a CNN-based medical image classifier using PyTorch, enabling image preprocessing, dataset loading, and model training for tasks like disease detection from X-rays or MRIs. It also includes tools for web scraping medical images, file management, and image processing to support data collection and preparation."
      ]
    },
    {
      "cell_type": "code",
      "execution_count": 1,
      "metadata": {
        "id": "yohTiipCiO5P"
      },
      "outputs": [],
      "source": [
        "import torch\n",
        "import torchvision.transforms as transforms\n",
        "import torchvision.datasets as datasets\n",
        "from torch.utils.data import DataLoader\n",
        "import torch.nn as nn\n",
        "import requests\n",
        "from bs4 import BeautifulSoup\n",
        "import urllib.request\n",
        "import os\n",
        "from PIL import Image\n",
        "import shutil"
      ]
    },
    {
      "cell_type": "code",
      "execution_count": 2,
      "metadata": {
        "id": "ysFoarHliQDO"
      },
      "outputs": [],
      "source": [
        "device = torch.device('cuda' if torch.cuda.is_available() else 'cpu')"
      ]
    },
    {
      "cell_type": "code",
      "execution_count": 3,
      "metadata": {
        "colab": {
          "base_uri": "https://localhost:8080/"
        },
        "collapsed": true,
        "id": "6u3UtlMWiY-O",
        "outputId": "6cda64ca-2ce3-4b8b-aaba-0e81b30dcf6d"
      },
      "outputs": [
        {
          "output_type": "stream",
          "name": "stdout",
          "text": [
            "Requirement already satisfied: kaggle in /usr/local/lib/python3.11/dist-packages (1.7.4.5)\n",
            "Requirement already satisfied: bleach in /usr/local/lib/python3.11/dist-packages (from kaggle) (6.2.0)\n",
            "Requirement already satisfied: certifi>=14.05.14 in /usr/local/lib/python3.11/dist-packages (from kaggle) (2025.8.3)\n",
            "Requirement already satisfied: charset-normalizer in /usr/local/lib/python3.11/dist-packages (from kaggle) (3.4.2)\n",
            "Requirement already satisfied: idna in /usr/local/lib/python3.11/dist-packages (from kaggle) (3.10)\n",
            "Requirement already satisfied: protobuf in /usr/local/lib/python3.11/dist-packages (from kaggle) (5.29.5)\n",
            "Requirement already satisfied: python-dateutil>=2.5.3 in /usr/local/lib/python3.11/dist-packages (from kaggle) (2.9.0.post0)\n",
            "Requirement already satisfied: python-slugify in /usr/local/lib/python3.11/dist-packages (from kaggle) (8.0.4)\n",
            "Requirement already satisfied: requests in /usr/local/lib/python3.11/dist-packages (from kaggle) (2.32.3)\n",
            "Requirement already satisfied: setuptools>=21.0.0 in /usr/local/lib/python3.11/dist-packages (from kaggle) (75.2.0)\n",
            "Requirement already satisfied: six>=1.10 in /usr/local/lib/python3.11/dist-packages (from kaggle) (1.17.0)\n",
            "Requirement already satisfied: text-unidecode in /usr/local/lib/python3.11/dist-packages (from kaggle) (1.3)\n",
            "Requirement already satisfied: tqdm in /usr/local/lib/python3.11/dist-packages (from kaggle) (4.67.1)\n",
            "Requirement already satisfied: urllib3>=1.15.1 in /usr/local/lib/python3.11/dist-packages (from kaggle) (2.5.0)\n",
            "Requirement already satisfied: webencodings in /usr/local/lib/python3.11/dist-packages (from kaggle) (0.5.1)\n"
          ]
        }
      ],
      "source": [
        "!pip install kaggle"
      ]
    },
    {
      "cell_type": "code",
      "execution_count": 4,
      "metadata": {
        "colab": {
          "base_uri": "https://localhost:8080/",
          "height": 73
        },
        "id": "iAayI2avG8Ct",
        "outputId": "22546b7d-4c65-4048-cda3-c511d94aa998"
      },
      "outputs": [
        {
          "output_type": "display_data",
          "data": {
            "text/plain": [
              "<IPython.core.display.HTML object>"
            ],
            "text/html": [
              "\n",
              "     <input type=\"file\" id=\"files-9f0b6eeb-e088-40d7-99a0-777e3db58556\" name=\"files[]\" multiple disabled\n",
              "        style=\"border:none\" />\n",
              "     <output id=\"result-9f0b6eeb-e088-40d7-99a0-777e3db58556\">\n",
              "      Upload widget is only available when the cell has been executed in the\n",
              "      current browser session. Please rerun this cell to enable.\n",
              "      </output>\n",
              "      <script>// Copyright 2017 Google LLC\n",
              "//\n",
              "// Licensed under the Apache License, Version 2.0 (the \"License\");\n",
              "// you may not use this file except in compliance with the License.\n",
              "// You may obtain a copy of the License at\n",
              "//\n",
              "//      http://www.apache.org/licenses/LICENSE-2.0\n",
              "//\n",
              "// Unless required by applicable law or agreed to in writing, software\n",
              "// distributed under the License is distributed on an \"AS IS\" BASIS,\n",
              "// WITHOUT WARRANTIES OR CONDITIONS OF ANY KIND, either express or implied.\n",
              "// See the License for the specific language governing permissions and\n",
              "// limitations under the License.\n",
              "\n",
              "/**\n",
              " * @fileoverview Helpers for google.colab Python module.\n",
              " */\n",
              "(function(scope) {\n",
              "function span(text, styleAttributes = {}) {\n",
              "  const element = document.createElement('span');\n",
              "  element.textContent = text;\n",
              "  for (const key of Object.keys(styleAttributes)) {\n",
              "    element.style[key] = styleAttributes[key];\n",
              "  }\n",
              "  return element;\n",
              "}\n",
              "\n",
              "// Max number of bytes which will be uploaded at a time.\n",
              "const MAX_PAYLOAD_SIZE = 100 * 1024;\n",
              "\n",
              "function _uploadFiles(inputId, outputId) {\n",
              "  const steps = uploadFilesStep(inputId, outputId);\n",
              "  const outputElement = document.getElementById(outputId);\n",
              "  // Cache steps on the outputElement to make it available for the next call\n",
              "  // to uploadFilesContinue from Python.\n",
              "  outputElement.steps = steps;\n",
              "\n",
              "  return _uploadFilesContinue(outputId);\n",
              "}\n",
              "\n",
              "// This is roughly an async generator (not supported in the browser yet),\n",
              "// where there are multiple asynchronous steps and the Python side is going\n",
              "// to poll for completion of each step.\n",
              "// This uses a Promise to block the python side on completion of each step,\n",
              "// then passes the result of the previous step as the input to the next step.\n",
              "function _uploadFilesContinue(outputId) {\n",
              "  const outputElement = document.getElementById(outputId);\n",
              "  const steps = outputElement.steps;\n",
              "\n",
              "  const next = steps.next(outputElement.lastPromiseValue);\n",
              "  return Promise.resolve(next.value.promise).then((value) => {\n",
              "    // Cache the last promise value to make it available to the next\n",
              "    // step of the generator.\n",
              "    outputElement.lastPromiseValue = value;\n",
              "    return next.value.response;\n",
              "  });\n",
              "}\n",
              "\n",
              "/**\n",
              " * Generator function which is called between each async step of the upload\n",
              " * process.\n",
              " * @param {string} inputId Element ID of the input file picker element.\n",
              " * @param {string} outputId Element ID of the output display.\n",
              " * @return {!Iterable<!Object>} Iterable of next steps.\n",
              " */\n",
              "function* uploadFilesStep(inputId, outputId) {\n",
              "  const inputElement = document.getElementById(inputId);\n",
              "  inputElement.disabled = false;\n",
              "\n",
              "  const outputElement = document.getElementById(outputId);\n",
              "  outputElement.innerHTML = '';\n",
              "\n",
              "  const pickedPromise = new Promise((resolve) => {\n",
              "    inputElement.addEventListener('change', (e) => {\n",
              "      resolve(e.target.files);\n",
              "    });\n",
              "  });\n",
              "\n",
              "  const cancel = document.createElement('button');\n",
              "  inputElement.parentElement.appendChild(cancel);\n",
              "  cancel.textContent = 'Cancel upload';\n",
              "  const cancelPromise = new Promise((resolve) => {\n",
              "    cancel.onclick = () => {\n",
              "      resolve(null);\n",
              "    };\n",
              "  });\n",
              "\n",
              "  // Wait for the user to pick the files.\n",
              "  const files = yield {\n",
              "    promise: Promise.race([pickedPromise, cancelPromise]),\n",
              "    response: {\n",
              "      action: 'starting',\n",
              "    }\n",
              "  };\n",
              "\n",
              "  cancel.remove();\n",
              "\n",
              "  // Disable the input element since further picks are not allowed.\n",
              "  inputElement.disabled = true;\n",
              "\n",
              "  if (!files) {\n",
              "    return {\n",
              "      response: {\n",
              "        action: 'complete',\n",
              "      }\n",
              "    };\n",
              "  }\n",
              "\n",
              "  for (const file of files) {\n",
              "    const li = document.createElement('li');\n",
              "    li.append(span(file.name, {fontWeight: 'bold'}));\n",
              "    li.append(span(\n",
              "        `(${file.type || 'n/a'}) - ${file.size} bytes, ` +\n",
              "        `last modified: ${\n",
              "            file.lastModifiedDate ? file.lastModifiedDate.toLocaleDateString() :\n",
              "                                    'n/a'} - `));\n",
              "    const percent = span('0% done');\n",
              "    li.appendChild(percent);\n",
              "\n",
              "    outputElement.appendChild(li);\n",
              "\n",
              "    const fileDataPromise = new Promise((resolve) => {\n",
              "      const reader = new FileReader();\n",
              "      reader.onload = (e) => {\n",
              "        resolve(e.target.result);\n",
              "      };\n",
              "      reader.readAsArrayBuffer(file);\n",
              "    });\n",
              "    // Wait for the data to be ready.\n",
              "    let fileData = yield {\n",
              "      promise: fileDataPromise,\n",
              "      response: {\n",
              "        action: 'continue',\n",
              "      }\n",
              "    };\n",
              "\n",
              "    // Use a chunked sending to avoid message size limits. See b/62115660.\n",
              "    let position = 0;\n",
              "    do {\n",
              "      const length = Math.min(fileData.byteLength - position, MAX_PAYLOAD_SIZE);\n",
              "      const chunk = new Uint8Array(fileData, position, length);\n",
              "      position += length;\n",
              "\n",
              "      const base64 = btoa(String.fromCharCode.apply(null, chunk));\n",
              "      yield {\n",
              "        response: {\n",
              "          action: 'append',\n",
              "          file: file.name,\n",
              "          data: base64,\n",
              "        },\n",
              "      };\n",
              "\n",
              "      let percentDone = fileData.byteLength === 0 ?\n",
              "          100 :\n",
              "          Math.round((position / fileData.byteLength) * 100);\n",
              "      percent.textContent = `${percentDone}% done`;\n",
              "\n",
              "    } while (position < fileData.byteLength);\n",
              "  }\n",
              "\n",
              "  // All done.\n",
              "  yield {\n",
              "    response: {\n",
              "      action: 'complete',\n",
              "    }\n",
              "  };\n",
              "}\n",
              "\n",
              "scope.google = scope.google || {};\n",
              "scope.google.colab = scope.google.colab || {};\n",
              "scope.google.colab._files = {\n",
              "  _uploadFiles,\n",
              "  _uploadFilesContinue,\n",
              "};\n",
              "})(self);\n",
              "</script> "
            ]
          },
          "metadata": {}
        },
        {
          "output_type": "stream",
          "name": "stdout",
          "text": [
            "Saving kaggle.json to kaggle.json\n"
          ]
        }
      ],
      "source": [
        "from google.colab import files\n",
        "uploaded = files.upload()  # Upload kaggle.json\n",
        "if not os.path.exists('/content/kaggle.json'):\n",
        "    print(\"Error: kaggle.json not uploaded correctly.\")\n",
        "    exit()"
      ]
    },
    {
      "cell_type": "code",
      "execution_count": 5,
      "metadata": {
        "id": "S3WeSYtqiius"
      },
      "outputs": [],
      "source": [
        "!mkdir -p ~/.kaggle\n",
        "!mv kaggle.json ~/.kaggle/\n",
        "!chmod 600 ~/.kaggle/kaggle.json"
      ]
    },
    {
      "cell_type": "code",
      "execution_count": 6,
      "metadata": {
        "colab": {
          "base_uri": "https://localhost:8080/"
        },
        "collapsed": true,
        "id": "M7y6L_MSilSu",
        "outputId": "3c263acf-e8f1-4b37-ece0-9b39b70dcf5d"
      },
      "outputs": [
        {
          "output_type": "stream",
          "name": "stdout",
          "text": [
            "ref                                                        title                                                    size  lastUpdated                 downloadCount  voteCount  usabilityRating  \n",
            "---------------------------------------------------------  -------------------------------------------------  ----------  --------------------------  -------------  ---------  ---------------  \n",
            "rohitgrewal/airlines-flights-data                          Airlines Flights Data                                 2440299  2025-07-29 09:16:00.463000           9444        173  1.0              \n",
            "wasiqaliyasir/breast-cancer-dataset                        Breast cancer dataset                                   49830  2025-07-30 12:52:44.057000           5607        184  1.0              \n",
            "kunshbhatia/delhi-air-quality-dataset                      Delhi Air Quality Dataset                               30430  2025-07-28 14:00:14.247000           3957         86  1.0              \n",
            "abdulmalik1518/cars-datasets-2025                          Cars Datasets (2025)                                    25987  2025-07-17 21:43:28.493000          10931        239  1.0              \n",
            "rohitgrewal/restaurant-sales-data                          Restaurant Sales Data                                    2237  2025-07-31 17:29:16.597000           1901         29  1.0              \n",
            "rohitgrewal/netflix-data                                   Netflix Data                                          1224095  2025-07-31 06:07:40.333000           1801         33  1.0              \n",
            "sahilislam007/college-student-placement-factors-dataset    College Student Placement Factors Dataset              110450  2025-07-02 08:33:50.547000          11737        218  1.0              \n",
            "younusmohamed/payment-fraud-empowering-financial-security  Payment Fraud - Empowering Financial Security          319948  2025-08-02 08:40:49.427000            555         25  1.0              \n",
            "anandshaw2001/top-spotify-songs-in-countries               Top Spotify Listening History Songs in Countries      6389288  2025-06-15 05:01:56                  6721        159  1.0              \n",
            "shamimhasan8/education-inequality-data                     Education Inequality Data                               28283  2025-07-29 03:19:04.740000           1171         25  1.0              \n",
            "ankushpanday2/indian-kids-screentime-2025                  Indian Kids Screentime 2025                             70001  2025-07-08 17:25:35.483000           6401        104  1.0              \n",
            "reignrichard/coffee-store-sales                            Coffee Store Sales                                     426152  2025-07-11 12:23:43.847000           3471         45  0.9411765        \n",
            "divyaraj2006/credit-card-spending-in-india                 Credit Card Spending in India                            2047  2025-07-30 02:39:50.310000           1252         28  1.0              \n",
            "atharvasoundankar/sneakers-and-streetwear-sales-2022       👟 Sneakers & Streetwear Sales (2022)                     6320  2025-07-29 08:28:56.377000           1266         28  1.0              \n",
            "rohitgrewal/spotify-youtube-data                           Spotify-YouTube Data                                  9386470  2025-07-26 08:56:33.277000           1215         28  1.0              \n",
            "yasserhessein/multiclass-diabetes-dataset                  Multiclass Diabetes Dataset                              3755  2025-07-18 09:17:03.757000           1597         46  1.0              \n",
            "dansbecker/melbourne-housing-snapshot                      Melbourne Housing Snapshot                             461423  2018-06-05 12:52:24.087000         187839       1655  0.7058824        \n",
            "rohitgrewal/weather-data                                   Weather Data                                           102960  2025-07-30 15:25:37.393000            740         21  1.0              \n",
            "datasnaek/youtube-new                                      Trending YouTube Video Statistics                   210575746  2019-06-03 00:56:47.177000         279796       5743  0.7941176        \n",
            "zynicide/wine-reviews                                      Wine Reviews                                         53336293  2017-11-27 17:08:04.700000         331703       3764  0.7941176        \n"
          ]
        }
      ],
      "source": [
        "!kaggle datasets list || echo \"Kaggle API setup failed. Check kaggle.json.\""
      ]
    },
    {
      "cell_type": "code",
      "execution_count": 7,
      "metadata": {
        "id": "uJul_ewNjBYH"
      },
      "outputs": [],
      "source": [
        "os.makedirs('/content/data/chest_xray', exist_ok=True)"
      ]
    },
    {
      "cell_type": "markdown",
      "metadata": {
        "id": "XoKM5_NqRaMf"
      },
      "source": [
        "Importing(Downloading) the medical dataset from kaggle"
      ]
    },
    {
      "cell_type": "code",
      "execution_count": 8,
      "metadata": {
        "colab": {
          "base_uri": "https://localhost:8080/"
        },
        "id": "YCQ_7o4giolQ",
        "outputId": "00596990-d22c-4556-a6a6-5dbdfa564aa2"
      },
      "outputs": [
        {
          "output_type": "stream",
          "name": "stdout",
          "text": [
            "Dataset URL: https://www.kaggle.com/datasets/paultimothymooney/chest-xray-pneumonia\n",
            "License(s): other\n",
            "Downloading chest-xray-pneumonia.zip to /content\n",
            " 99% 2.28G/2.29G [00:14<00:00, 246MB/s]\n",
            "100% 2.29G/2.29G [00:14<00:00, 173MB/s]\n"
          ]
        }
      ],
      "source": [
        "!kaggle datasets download -d paultimothymooney/chest-xray-pneumonia\n",
        "!unzip -q chest-xray-pneumonia.zip -d /content/data/chest_xray/"
      ]
    },
    {
      "cell_type": "code",
      "execution_count": 9,
      "metadata": {
        "colab": {
          "base_uri": "https://localhost:8080/"
        },
        "id": "s9hQEGa3ithi",
        "outputId": "6a3679ec-0fa3-4b6e-e8f3-a7281df18a52"
      },
      "outputs": [
        {
          "output_type": "stream",
          "name": "stderr",
          "text": [
            "100%|██████████| 170M/170M [00:13<00:00, 12.6MB/s]\n"
          ]
        }
      ],
      "source": [
        "from torchvision.datasets import CIFAR10\n",
        "cifar10_dataset = CIFAR10(root='/content/data/cifar10', train=True, download=True)"
      ]
    },
    {
      "cell_type": "code",
      "execution_count": 10,
      "metadata": {
        "id": "cL2DtQ8Hjc17"
      },
      "outputs": [],
      "source": [
        "os.makedirs('/content/data/train/medical', exist_ok=True)\n",
        "os.makedirs('/content/data/train/non-medical', exist_ok=True)"
      ]
    },
    {
      "cell_type": "code",
      "execution_count": 11,
      "metadata": {
        "id": "sRH29wK6jpQC"
      },
      "outputs": [],
      "source": [
        "!mv /content/data/chest_xray/chest_xray/train/NORMAL/* /content/data/train/medical/ 2>/dev/null\n",
        "!mv /content/data/chest_xray/chest_xray/train/PNEUMONIA/* /content/data/train/medical/ 2>/dev/null\n"
      ]
    },
    {
      "cell_type": "code",
      "execution_count": 12,
      "metadata": {
        "id": "1Xen4Xz-jtLw"
      },
      "outputs": [],
      "source": [
        "for i, (image, _) in enumerate(cifar10_dataset):\n",
        "    image.save(f'/content/data/train/non-medical/image_{i}.jpg')"
      ]
    },
    {
      "cell_type": "code",
      "execution_count": 13,
      "metadata": {
        "colab": {
          "base_uri": "https://localhost:8080/"
        },
        "id": "VmeFU02Wj2mc",
        "outputId": "496a0ef1-73e1-4f44-d6b4-b85174133dc3"
      },
      "outputs": [
        {
          "output_type": "stream",
          "name": "stdout",
          "text": [
            "5216\n",
            "50001\n"
          ]
        }
      ],
      "source": [
        "!ls /content/data/train/medical | wc -l  # Count medical images\n",
        "!ls /content/data/train/non-medical | wc -l  # Count non-medical images"
      ]
    },
    {
      "cell_type": "markdown",
      "metadata": {
        "id": "KClq9GKgRzzi"
      },
      "source": [
        "It resizes images to a uniform 224x224 resolution, converts them to PyTorch tensors, and normalizes pixel values using a mean and standard deviation of 0.485 and 0.229, respectively"
      ]
    },
    {
      "cell_type": "code",
      "execution_count": 14,
      "metadata": {
        "id": "yV5JC9TBj77o"
      },
      "outputs": [],
      "source": [
        "transform = transforms.Compose([\n",
        "    transforms.Resize((224, 224)),\n",
        "    transforms.ToTensor(),\n",
        "    transforms.Normalize(mean=[0.485, 0.485, 0.485], std=[0.229, 0.229, 0.229])\n",
        "])"
      ]
    },
    {
      "cell_type": "code",
      "execution_count": 15,
      "metadata": {
        "colab": {
          "base_uri": "https://localhost:8080/"
        },
        "id": "HKj0N3MTj_FI",
        "outputId": "1c5376be-3353-4f99-e122-1db0e446ce57"
      },
      "outputs": [
        {
          "output_type": "stream",
          "name": "stdout",
          "text": [
            "Dataset loaded with classes: ['medical', 'non-medical']\n"
          ]
        }
      ],
      "source": [
        "try:\n",
        "    train_dataset = datasets.ImageFolder(root=\"/content/data/train\", transform=transform)\n",
        "    train_loader = DataLoader(train_dataset, batch_size=32, shuffle=True)\n",
        "    print(f\"Dataset loaded with classes: {train_dataset.classes}\")\n",
        "except Exception as e:\n",
        "    print(f\"Error loading dataset: {e}\")\n",
        "    exit()"
      ]
    },
    {
      "cell_type": "markdown",
      "metadata": {
        "id": "-5xl6MAqR48H"
      },
      "source": [
        "This code defines a `SimpleCNN` class, a basic Convolutional Neural Network (CNN) for a medical image classifier, built using PyTorch's `nn.Module`. In the `__init__` method, it initializes a convolutional layer (`conv1`) that takes 3-channel input images (e.g., RGB medical images), applies 16 filters of size 3x3 with padding, followed by a max-pooling layer (`pool`) to reduce spatial dimensions by half, and a fully connected layer (`fc1`) that outputs scores for two classes (e.g., medical vs. non-medical or disease vs. no disease). The `forward` method processes input images through convolution, ReLU activation, pooling, flattening, and the final linear layer to produce classification outputs, suitable for binary medical image classification tasks like detecting abnormalities in X-rays or MRIs."
      ]
    },
    {
      "cell_type": "code",
      "execution_count": 16,
      "metadata": {
        "id": "aE65or6WkBoh"
      },
      "outputs": [],
      "source": [
        "class SimpleCNN(nn.Module):\n",
        "    def __init__(self):\n",
        "        super(SimpleCNN, self).__init__()\n",
        "        self.conv1 = nn.Conv2d(3, 16, 3, padding=1)\n",
        "        self.pool = nn.MaxPool2d(2, 2)\n",
        "        self.fc1 = nn.Linear(16 * 112 * 112, 2)  # 2 classes: medical, non-medical\n",
        "    def forward(self, x):\n",
        "        x = self.pool(torch.relu(self.conv1(x)))\n",
        "        x = x.view(-1, 16 * 112 * 112)\n",
        "        x = self.fc1(x)\n",
        "        return x"
      ]
    },
    {
      "cell_type": "code",
      "execution_count": 17,
      "metadata": {
        "id": "k1JI6Xk4kEOJ"
      },
      "outputs": [],
      "source": [
        "model = SimpleCNN().to(device)\n",
        "criterion = nn.CrossEntropyLoss()\n",
        "optimizer = torch.optim.Adam(model.parameters(), lr=0.001)"
      ]
    },
    {
      "cell_type": "markdown",
      "metadata": {
        "id": "g-VmkNrbR-Ee"
      },
      "source": [
        "This code snippet implements the training loop for the `SimpleCNN` medical image classifier over 5 epochs. In each epoch, it sets the model to training mode, iterates through batches of images and labels from `train_loader`, moves data to the specified device (GPU/CPU), computes the forward pass, calculates the loss using a predefined `criterion` (e.g., cross-entropy loss), backpropagates the gradients, and updates the model parameters with the `optimizer`. The running loss is accumulated and averaged over the number of batches, printing the average loss per epoch to monitor training progress for classifying medical images, such as identifying diseases in X-rays or MRIs."
      ]
    },
    {
      "cell_type": "code",
      "execution_count": 18,
      "metadata": {
        "colab": {
          "base_uri": "https://localhost:8080/"
        },
        "id": "7xWVCSsjkGjq",
        "outputId": "131c9758-d0d6-4de2-fa64-7df0106f4a9b"
      },
      "outputs": [
        {
          "output_type": "stream",
          "name": "stdout",
          "text": [
            "Epoch [1/5], Loss: 0.0499\n",
            "Epoch [2/5], Loss: 0.0329\n",
            "Epoch [3/5], Loss: 0.0403\n",
            "Epoch [4/5], Loss: 0.0363\n",
            "Epoch [5/5], Loss: 0.0230\n"
          ]
        }
      ],
      "source": [
        "num_epochs = 5\n",
        "for epoch in range(num_epochs):\n",
        "    model.train()\n",
        "    running_loss = 0.0\n",
        "    for images, labels in train_loader:\n",
        "        images, labels = images.to(device), labels.to(device)\n",
        "        optimizer.zero_grad()\n",
        "        outputs = model(images)\n",
        "        loss = criterion(outputs, labels)\n",
        "        loss.backward()\n",
        "        optimizer.step()\n",
        "        running_loss += loss.item()\n",
        "    print(f\"Epoch [{epoch+1}/{num_epochs}], Loss: {running_loss/len(train_loader):.4f}\")"
      ]
    },
    {
      "cell_type": "code",
      "execution_count": 19,
      "metadata": {
        "id": "S3Z8MQzhkJf5",
        "colab": {
          "base_uri": "https://localhost:8080/"
        },
        "outputId": "f29fe4bd-8480-425b-fa93-7fae810a22b0"
      },
      "outputs": [
        {
          "output_type": "stream",
          "name": "stdout",
          "text": [
            "Model saved as medical_non_medical_model.pth\n"
          ]
        }
      ],
      "source": [
        "torch.save(model.state_dict(), 'medical_non_medical_model.pth')\n",
        "print(\"Model saved as medical_non_medical_model.pth\")"
      ]
    },
    {
      "cell_type": "code",
      "execution_count": null,
      "metadata": {
        "id": "LzGa5hdC6dwE"
      },
      "outputs": [],
      "source": []
    },
    {
      "cell_type": "code",
      "execution_count": 20,
      "metadata": {
        "id": "VmFhawdx4KwO"
      },
      "outputs": [],
      "source": [
        "def download_images_from_url(url, save_dir=\"web_images\"):\n",
        "    if not os.path.exists(save_dir):\n",
        "        os.makedirs(save_dir)\n",
        "\n",
        "    headers = {'User-Agent': 'Mozilla/5.0'}\n",
        "    try:\n",
        "        response = requests.get(url, headers=headers, timeout=10)\n",
        "        response.raise_for_status()\n",
        "        soup = BeautifulSoup(response.text, 'html.parser')\n",
        "    except requests.RequestException as e:\n",
        "        print(f\"Error fetching webpage {url}: {e}\")\n",
        "        return []\n",
        "\n",
        "    img_urls = []\n",
        "    img_tags = soup.find_all('img')\n",
        "    for img in img_tags:\n",
        "        src = img.get('src')\n",
        "        if src and (src.endswith('.jpg') or src.endswith('.jpeg') or src.endswith('.png')):\n",
        "            if not src.startswith('http'):\n",
        "                src = urllib.parse.urljoin(url, src)\n",
        "            img_urls.append(src)\n",
        "\n",
        "    downloaded_paths = []\n",
        "    for i, img_url in enumerate(img_urls):\n",
        "        try:\n",
        "            img_name = os.path.join(save_dir, f'image_{i}.jpg')\n",
        "            urllib.request.urlretrieve(img_url, img_name)\n",
        "            downloaded_paths.append((img_name, img_url))  # Store path and URL\n",
        "            print(f\"Downloaded: {img_name}\")\n",
        "        except Exception as e:\n",
        "            print(f\"Failed to download {img_url}: {e}\")\n",
        "\n",
        "    return downloaded_paths"
      ]
    },
    {
      "cell_type": "code",
      "execution_count": 21,
      "metadata": {
        "id": "A6bhqPM74Qbn"
      },
      "outputs": [],
      "source": [
        "def predict_image(image_path, model, transform, device):\n",
        "    try:\n",
        "        image = Image.open(image_path).convert('RGB')\n",
        "        image = transform(image).unsqueeze(0).to(device)\n",
        "        with torch.no_grad():\n",
        "            output = model(image)\n",
        "            probabilities = torch.softmax(output, dim=1)\n",
        "            _, predicted = torch.max(output, 1)\n",
        "            class_names = ['medical', 'non-medical']\n",
        "            predicted_class = class_names[predicted.item()]\n",
        "            confidence = probabilities[0][predicted.item()].item()\n",
        "        return predicted_class, confidence\n",
        "    except Exception as e:\n",
        "        return None, f\"Error processing {image_path}: {e}\""
      ]
    },
    {
      "cell_type": "code",
      "execution_count": 22,
      "metadata": {
        "id": "L_u6pL-k4U4s",
        "colab": {
          "base_uri": "https://localhost:8080/"
        },
        "outputId": "1585a88e-e3bf-4048-d137-9cb175b49678"
      },
      "outputs": [
        {
          "output_type": "execute_result",
          "data": {
            "text/plain": [
              "SimpleCNN(\n",
              "  (conv1): Conv2d(3, 16, kernel_size=(3, 3), stride=(1, 1), padding=(1, 1))\n",
              "  (pool): MaxPool2d(kernel_size=2, stride=2, padding=0, dilation=1, ceil_mode=False)\n",
              "  (fc1): Linear(in_features=200704, out_features=2, bias=True)\n",
              ")"
            ]
          },
          "metadata": {},
          "execution_count": 22
        }
      ],
      "source": [
        "model.load_state_dict(torch.load('medical_non_medical_model.pth', map_location=device))\n",
        "model.eval()"
      ]
    },
    {
      "cell_type": "markdown",
      "metadata": {
        "id": "Mn7DPgsmSHaw"
      },
      "source": [
        "The download_images_from_url function is designed to scrape and download images from a specified webpage, which can be used to collect medical images (e.g., X-rays, MRIs) for a CNN-based medical classifier. It creates a directory (save_dir, defaulting to \"web_images\")"
      ]
    },
    {
      "cell_type": "code",
      "execution_count": 23,
      "metadata": {
        "collapsed": true,
        "id": "rPDBQ5g14Y76",
        "colab": {
          "base_uri": "https://localhost:8080/"
        },
        "outputId": "dc686813-ed2e-4930-dae8-79aeeaf6b2ad"
      },
      "outputs": [
        {
          "output_type": "stream",
          "name": "stdout",
          "text": [
            "Downloaded: web_images/image_0.jpg\n",
            "Downloaded: web_images/image_1.jpg\n",
            "Downloaded: web_images/image_2.jpg\n",
            "Downloaded: web_images/image_3.jpg\n",
            "Downloaded: web_images/image_4.jpg\n",
            "Downloaded: web_images/image_5.jpg\n",
            "Downloaded: web_images/image_6.jpg\n",
            "Downloaded: web_images/image_7.jpg\n",
            "Downloaded: web_images/image_8.jpg\n",
            "Downloaded: web_images/image_9.jpg\n",
            "Downloaded: web_images/image_10.jpg\n",
            "Downloaded: web_images/image_11.jpg\n",
            "Downloaded: web_images/image_12.jpg\n",
            "Downloaded: web_images/image_13.jpg\n",
            "Downloaded: web_images/image_14.jpg\n",
            "Downloaded: web_images/image_15.jpg\n",
            "Downloaded: web_images/image_16.jpg\n",
            "Downloaded: web_images/image_17.jpg\n",
            "Downloaded: web_images/image_18.jpg\n",
            "Downloaded: web_images/image_19.jpg\n",
            "Downloaded: web_images/image_20.jpg\n",
            "Downloaded: web_images/image_21.jpg\n",
            "Downloaded: web_images/image_22.jpg\n",
            "Downloaded: web_images/image_23.jpg\n",
            "Downloaded: web_images/image_24.jpg\n",
            "Downloaded: web_images/image_25.jpg\n",
            "Downloaded: web_images/image_26.jpg\n",
            "Downloaded: web_images/image_27.jpg\n",
            "Downloaded: web_images/image_28.jpg\n",
            "Downloaded: web_images/image_29.jpg\n",
            "Downloaded: web_images/image_30.jpg\n",
            "Downloaded: web_images/image_31.jpg\n",
            "Downloaded: web_images/image_32.jpg\n",
            "Downloaded: web_images/image_33.jpg\n",
            "Downloaded: web_images/image_34.jpg\n",
            "Downloaded: web_images/image_35.jpg\n",
            "Downloaded: web_images/image_36.jpg\n",
            "Downloaded: web_images/image_37.jpg\n",
            "Downloaded: web_images/image_38.jpg\n",
            "Downloaded: web_images/image_39.jpg\n",
            "Downloaded: web_images/image_40.jpg\n",
            "Downloaded: web_images/image_41.jpg\n",
            "Downloaded: web_images/image_42.jpg\n",
            "Downloaded: web_images/image_43.jpg\n",
            "Downloaded: web_images/image_44.jpg\n",
            "Downloaded: web_images/image_45.jpg\n",
            "Downloaded: web_images/image_46.jpg\n",
            "Downloaded: web_images/image_47.jpg\n",
            "Downloaded: web_images/image_48.jpg\n",
            "Downloaded: web_images/image_49.jpg\n",
            "Downloaded: web_images/image_50.jpg\n",
            "Downloaded: web_images/image_51.jpg\n",
            "Downloaded: web_images/image_52.jpg\n",
            "Downloaded: web_images/image_53.jpg\n",
            "Downloaded: web_images/image_54.jpg\n",
            "Downloaded: web_images/image_55.jpg\n",
            "Downloaded: web_images/image_56.jpg\n",
            "Downloaded: web_images/image_57.jpg\n",
            "Downloaded: web_images/image_58.jpg\n",
            "Downloaded: web_images/image_59.jpg\n",
            "Downloaded: web_images/image_60.jpg\n",
            "Downloaded: web_images/image_61.jpg\n",
            "Downloaded: web_images/image_62.jpg\n",
            "Downloaded: web_images/image_63.jpg\n",
            "Downloaded: web_images/image_64.jpg\n",
            "Downloaded: web_images/image_65.jpg\n",
            "Downloaded: web_images/image_66.jpg\n",
            "Downloaded: web_images/image_67.jpg\n",
            "Downloaded: web_images/image_68.jpg\n",
            "Downloaded: web_images/image_69.jpg\n",
            "Downloaded: web_images/image_70.jpg\n",
            "Downloaded: web_images/image_71.jpg\n",
            "Downloaded: web_images/image_72.jpg\n",
            "Downloaded: web_images/image_73.jpg\n",
            "Downloaded: web_images/image_74.jpg\n",
            "Downloaded: web_images/image_75.jpg\n",
            "Downloaded: web_images/image_76.jpg\n",
            "Downloaded: web_images/image_77.jpg\n",
            "Downloaded: web_images/image_78.jpg\n",
            "Downloaded: web_images/image_79.jpg\n",
            "Downloaded: web_images/image_80.jpg\n",
            "Downloaded: web_images/image_81.jpg\n",
            "Downloaded: web_images/image_82.jpg\n",
            "Downloaded: web_images/image_83.jpg\n",
            "Downloaded: web_images/image_84.jpg\n",
            "Downloaded: web_images/image_85.jpg\n",
            "Downloaded: web_images/image_86.jpg\n",
            "Downloaded: web_images/image_87.jpg\n",
            "Downloaded: web_images/image_88.jpg\n",
            "Downloaded: web_images/image_89.jpg\n",
            "Downloaded: web_images/image_90.jpg\n",
            "Downloaded: web_images/image_91.jpg\n",
            "Downloaded: web_images/image_92.jpg\n",
            "Downloaded: web_images/image_93.jpg\n",
            "Downloaded: web_images/image_94.jpg\n",
            "Downloaded: web_images/image_95.jpg\n",
            "Downloaded: web_images/image_96.jpg\n",
            "Downloaded: web_images/image_97.jpg\n",
            "Downloaded: web_images/image_98.jpg\n",
            "Downloaded: web_images/image_99.jpg\n",
            "Downloaded: web_images/image_100.jpg\n",
            "Downloaded: web_images/image_101.jpg\n",
            "Downloaded: web_images/image_102.jpg\n",
            "Downloaded: web_images/image_103.jpg\n",
            "Downloaded: web_images/image_104.jpg\n",
            "Downloaded: web_images/image_105.jpg\n",
            "Downloaded: web_images/image_106.jpg\n",
            "Downloaded: web_images/image_107.jpg\n",
            "Downloaded: web_images/image_108.jpg\n",
            "Downloaded: web_images/image_109.jpg\n",
            "Downloaded: web_images/image_110.jpg\n",
            "Downloaded: web_images/image_111.jpg\n",
            "Downloaded: web_images/image_112.jpg\n",
            "Downloaded: web_images/image_113.jpg\n",
            "Downloaded: web_images/image_114.jpg\n",
            "Downloaded: web_images/image_115.jpg\n",
            "Downloaded: web_images/image_116.jpg\n",
            "Downloaded: web_images/image_117.jpg\n",
            "Downloaded: web_images/image_118.jpg\n",
            "Downloaded: web_images/image_119.jpg\n",
            "Downloaded: web_images/image_120.jpg\n",
            "Downloaded: web_images/image_121.jpg\n",
            "Downloaded: web_images/image_122.jpg\n"
          ]
        }
      ],
      "source": [
        "url = \"https://en.wikipedia.org/wiki/Sachin_Tendulkar\"\n",
        "image_paths_urls = download_images_from_url(url)"
      ]
    },
    {
      "cell_type": "code",
      "execution_count": 24,
      "metadata": {
        "collapsed": true,
        "id": "Ugtv3jes4my6",
        "colab": {
          "base_uri": "https://localhost:8080/"
        },
        "outputId": "6256d91b-d4b7-4f1f-e1e9-2f24980e1625"
      },
      "outputs": [
        {
          "output_type": "stream",
          "name": "stdout",
          "text": [
            "Image: web_images/image_0.jpg, URL: https://en.wikipedia.org/static/images/icons/wikipedia.png, Predicted: non-medical, Confidence: 1.0000\n",
            "Image: web_images/image_1.jpg, URL: https://upload.wikimedia.org/wikipedia/en/thumb/1/1b/Semi-protection-shackle.svg/20px-Semi-protection-shackle.svg.png, Predicted: non-medical, Confidence: 1.0000\n",
            "Image: web_images/image_2.jpg, URL: https://upload.wikimedia.org/wikipedia/commons/thumb/3/3e/The_cricket_legend_Sachin_Tendulkar_at_the_Oval_Maidan_in_Mumbai_During_the_Duke_and_Duchess_of_Cambridge_Visit%2826271019082%29.jpg/250px-The_cricket_legend_Sachin_Tendulkar_at_the_Oval_Maidan_in_Mumbai_During_the_Duke_and_Duchess_of_Cambridge_Visit%2826271019082%29.jpg, Predicted: non-medical, Confidence: 1.0000\n",
            "Image: web_images/image_3.jpg, URL: https://upload.wikimedia.org/wikipedia/en/thumb/4/41/Flag_of_India.svg/40px-Flag_of_India.svg.png, Predicted: non-medical, Confidence: 1.0000\n",
            "Image: web_images/image_4.jpg, URL: https://upload.wikimedia.org/wikipedia/commons/thumb/1/1d/Sachin_Tendulkar_Signature.svg/250px-Sachin_Tendulkar_Signature.svg.png, Predicted: non-medical, Confidence: 1.0000\n",
            "Image: web_images/image_5.jpg, URL: https://upload.wikimedia.org/wikipedia/en/thumb/4/41/Flag_of_India.svg/40px-Flag_of_India.svg.png, Predicted: non-medical, Confidence: 1.0000\n",
            "Image: web_images/image_6.jpg, URL: https://upload.wikimedia.org/wikipedia/commons/thumb/8/8e/Air_Force_Ensign_of_India.svg/40px-Air_Force_Ensign_of_India.svg.png, Predicted: non-medical, Confidence: 1.0000\n",
            "Image: web_images/image_7.jpg, URL: https://upload.wikimedia.org/wikipedia/commons/thumb/8/81/Indian_IAF_OF-5.svg/20px-Indian_IAF_OF-5.svg.png, Predicted: non-medical, Confidence: 1.0000\n",
            "Image: web_images/image_8.jpg, URL: https://upload.wikimedia.org/wikipedia/commons/thumb/b/b8/Sachin-Tendulkar_%28cropped%29.jpg/120px-Sachin-Tendulkar_%28cropped%29.jpg, Predicted: non-medical, Confidence: 1.0000\n",
            "Image: web_images/image_9.jpg, URL: https://upload.wikimedia.org/wikipedia/commons/thumb/6/65/Sachin_at_the_other_end.jpg/250px-Sachin_at_the_other_end.jpg, Predicted: non-medical, Confidence: 1.0000\n",
            "Image: web_images/image_10.jpg, URL: https://upload.wikimedia.org/wikipedia/commons/thumb/6/6e/Tendulkar_closup.jpg/250px-Tendulkar_closup.jpg, Predicted: non-medical, Confidence: 1.0000\n",
            "Image: web_images/image_11.jpg, URL: https://upload.wikimedia.org/wikipedia/commons/thumb/5/5b/Tendulkar_goes_to_14%2C000_Test_runs.jpg/960px-Tendulkar_goes_to_14%2C000_Test_runs.jpg, Predicted: non-medical, Confidence: 1.0000\n",
            "Image: web_images/image_12.jpg, URL: https://upload.wikimedia.org/wikipedia/commons/thumb/0/03/Historic_Moment_during_2011_Cricket_World_Cup.jpg/250px-Historic_Moment_during_2011_Cricket_World_Cup.jpg, Predicted: non-medical, Confidence: 1.0000\n",
            "Image: web_images/image_13.jpg, URL: https://upload.wikimedia.org/wikipedia/commons/thumb/2/28/199Sachin.jpg/250px-199Sachin.jpg, Predicted: non-medical, Confidence: 1.0000\n",
            "Image: web_images/image_14.jpg, URL: https://upload.wikimedia.org/wikipedia/commons/thumb/7/72/Master_Blaster_at_work.jpg/250px-Master_Blaster_at_work.jpg, Predicted: non-medical, Confidence: 1.0000\n",
            "Image: web_images/image_15.jpg, URL: https://upload.wikimedia.org/wikipedia/commons/thumb/9/99/Sachin_Ramesh_Tendulkar_Wax_Statue_in_Madame_Tussauds_London.jpg/250px-Sachin_Ramesh_Tendulkar_Wax_Statue_in_Madame_Tussauds_London.jpg, Predicted: non-medical, Confidence: 1.0000\n",
            "Image: web_images/image_16.jpg, URL: https://upload.wikimedia.org/wikipedia/commons/thumb/d/db/The_President%2C_Smt._Pratibha_Devisingh_Patil_presenting_the_Padma_Vibhushan_to_Shri_Sachin_Ramesh_Tendulkar%2C_famous_cricketer%2C_at_an_Investiture-I_Ceremony%2C_at_Rashtrapati_Bhavan%2C_in_New_Delhi_on_May_05%2C_2008.jpg/250px-thumbnail.jpg, Predicted: non-medical, Confidence: 1.0000\n",
            "Image: web_images/image_17.jpg, URL: https://upload.wikimedia.org/wikipedia/commons/thumb/2/28/The_President%2C_Shri_Pranab_Mukherjee_presenting_the_Bharat_Ratna_Awards_2014_to_Shri_Sachin_Ramesh_Tendulkar_at_a_Investiture_ceremony_in_New_Delhi_on_February_4%2C_2014..jpg/250px-thumbnail.jpg, Predicted: non-medical, Confidence: 1.0000\n",
            "Image: web_images/image_18.jpg, URL: https://upload.wikimedia.org/wikipedia/commons/thumb/3/33/Padma_Shri_Ribbon.svg/60px-Padma_Shri_Ribbon.svg.png, Predicted: non-medical, Confidence: 1.0000\n",
            "Image: web_images/image_19.jpg, URL: https://upload.wikimedia.org/wikipedia/commons/thumb/a/a8/Padma_Vibhushan_Ribbon.svg/60px-Padma_Vibhushan_Ribbon.svg.png, Predicted: non-medical, Confidence: 1.0000\n",
            "Image: web_images/image_20.jpg, URL: https://upload.wikimedia.org/wikipedia/commons/thumb/0/00/Flag_of_Group_Captain_%28India%29.svg/60px-Flag_of_Group_Captain_%28India%29.svg.png, Predicted: non-medical, Confidence: 1.0000\n",
            "Image: web_images/image_21.jpg, URL: https://upload.wikimedia.org/wikipedia/commons/thumb/e/e2/IND_Bharat_Ratna_BAR.png/60px-IND_Bharat_Ratna_BAR.png, Predicted: non-medical, Confidence: 1.0000\n",
            "Image: web_images/image_22.jpg, URL: https://upload.wikimedia.org/wikipedia/commons/thumb/4/41/AUS_Order_of_Australia_%28civil%29_BAR.svg/60px-AUS_Order_of_Australia_%28civil%29_BAR.svg.png, Predicted: non-medical, Confidence: 1.0000\n",
            "Image: web_images/image_23.jpg, URL: https://upload.wikimedia.org/wikipedia/commons/thumb/9/98/Sachin_Tendulkar_2013_stamp_of_India_2.jpg/250px-Sachin_Tendulkar_2013_stamp_of_India_2.jpg, Predicted: non-medical, Confidence: 1.0000\n",
            "Image: web_images/image_24.jpg, URL: https://upload.wikimedia.org/wikipedia/commons/thumb/6/6c/Sachin_Tendulkar_2013_stamp_of_India.jpg/250px-Sachin_Tendulkar_2013_stamp_of_India.jpg, Predicted: non-medical, Confidence: 1.0000\n",
            "Image: web_images/image_25.jpg, URL: https://upload.wikimedia.org/wikipedia/commons/thumb/8/88/Flag_of_Australia_%28converted%29.svg/40px-Flag_of_Australia_%28converted%29.svg.png, Predicted: non-medical, Confidence: 1.0000\n",
            "Image: web_images/image_26.jpg, URL: https://upload.wikimedia.org/wikipedia/commons/thumb/1/11/Flag_of_Sri_Lanka.svg/40px-Flag_of_Sri_Lanka.svg.png, Predicted: non-medical, Confidence: 1.0000\n",
            "Image: web_images/image_27.jpg, URL: https://upload.wikimedia.org/wikipedia/commons/thumb/a/af/Flag_of_South_Africa.svg/40px-Flag_of_South_Africa.svg.png, Predicted: non-medical, Confidence: 1.0000\n",
            "Image: web_images/image_28.jpg, URL: https://upload.wikimedia.org/wikipedia/en/thumb/b/be/Flag_of_England.svg/40px-Flag_of_England.svg.png, Predicted: non-medical, Confidence: 1.0000\n",
            "Image: web_images/image_29.jpg, URL: https://upload.wikimedia.org/wikipedia/commons/thumb/3/3e/Flag_of_New_Zealand.svg/40px-Flag_of_New_Zealand.svg.png, Predicted: non-medical, Confidence: 1.0000\n",
            "Image: web_images/image_30.jpg, URL: https://upload.wikimedia.org/wikipedia/commons/thumb/1/18/WestIndiesCricketFlagPre1999.svg/40px-WestIndiesCricketFlagPre1999.svg.png, Predicted: non-medical, Confidence: 1.0000\n",
            "Image: web_images/image_31.jpg, URL: https://upload.wikimedia.org/wikipedia/commons/thumb/6/6a/Flag_of_Zimbabwe.svg/40px-Flag_of_Zimbabwe.svg.png, Predicted: non-medical, Confidence: 1.0000\n",
            "Image: web_images/image_32.jpg, URL: https://upload.wikimedia.org/wikipedia/commons/thumb/3/32/Flag_of_Pakistan.svg/40px-Flag_of_Pakistan.svg.png, Predicted: non-medical, Confidence: 1.0000\n",
            "Image: web_images/image_33.jpg, URL: https://upload.wikimedia.org/wikipedia/commons/thumb/f/f9/Flag_of_Bangladesh.svg/40px-Flag_of_Bangladesh.svg.png, Predicted: non-medical, Confidence: 1.0000\n",
            "Image: web_images/image_34.jpg, URL: https://upload.wikimedia.org/wikipedia/commons/thumb/4/49/Flag_of_Kenya.svg/40px-Flag_of_Kenya.svg.png, Predicted: non-medical, Confidence: 1.0000\n",
            "Image: web_images/image_35.jpg, URL: https://upload.wikimedia.org/wikipedia/commons/thumb/0/00/Flag_of_Namibia.svg/40px-Flag_of_Namibia.svg.png, Predicted: non-medical, Confidence: 1.0000\n",
            "Image: web_images/image_36.jpg, URL: https://upload.wikimedia.org/wikipedia/commons/thumb/5/57/Preferences-desktop-accessibility-alert.svg/45px-Preferences-desktop-accessibility-alert.svg.png, Predicted: non-medical, Confidence: 1.0000\n",
            "Image: web_images/image_37.jpg, URL: https://upload.wikimedia.org/wikipedia/commons/thumb/3/33/Sachin_Tendulkar_graph.svg/960px-Sachin_Tendulkar_graph.svg.png, Predicted: non-medical, Confidence: 1.0000\n",
            "Image: web_images/image_38.jpg, URL: https://upload.wikimedia.org/wikipedia/commons/thumb/9/96/Anjali-Sachin.jpg/250px-Anjali-Sachin.jpg, Predicted: non-medical, Confidence: 1.0000\n",
            "Image: web_images/image_39.jpg, URL: https://upload.wikimedia.org/wikipedia/commons/thumb/b/bd/Ambox_current_red_Asia_Australia.svg/60px-Ambox_current_red_Asia_Australia.svg.png, Predicted: non-medical, Confidence: 1.0000\n",
            "Image: web_images/image_40.jpg, URL: https://upload.wikimedia.org/wikipedia/en/thumb/0/06/Wiktionary-logo-v2.svg/40px-Wiktionary-logo-v2.svg.png, Predicted: non-medical, Confidence: 1.0000\n",
            "Image: web_images/image_41.jpg, URL: https://upload.wikimedia.org/wikipedia/en/thumb/4/4a/Commons-logo.svg/20px-Commons-logo.svg.png, Predicted: non-medical, Confidence: 1.0000\n",
            "Image: web_images/image_42.jpg, URL: https://upload.wikimedia.org/wikipedia/commons/thumb/2/24/Wikinews-logo.svg/40px-Wikinews-logo.svg.png, Predicted: non-medical, Confidence: 1.0000\n",
            "Image: web_images/image_43.jpg, URL: https://upload.wikimedia.org/wikipedia/commons/thumb/f/fa/Wikiquote-logo.svg/40px-Wikiquote-logo.svg.png, Predicted: non-medical, Confidence: 1.0000\n",
            "Image: web_images/image_44.jpg, URL: https://upload.wikimedia.org/wikipedia/commons/thumb/4/4c/Wikisource-logo.svg/40px-Wikisource-logo.svg.png, Predicted: non-medical, Confidence: 1.0000\n",
            "Image: web_images/image_45.jpg, URL: https://upload.wikimedia.org/wikipedia/commons/thumb/f/ff/Wikidata-logo.svg/40px-Wikidata-logo.svg.png, Predicted: non-medical, Confidence: 1.0000\n",
            "Image: web_images/image_46.jpg, URL: https://upload.wikimedia.org/wikipedia/en/thumb/4/41/Flag_of_India.svg/40px-Flag_of_India.svg.png, Predicted: non-medical, Confidence: 1.0000\n",
            "Image: web_images/image_47.jpg, URL: https://upload.wikimedia.org/wikipedia/commons/thumb/a/af/Flag_of_South_Africa.svg/40px-Flag_of_South_Africa.svg.png, Predicted: non-medical, Confidence: 1.0000\n",
            "Image: web_images/image_48.jpg, URL: https://upload.wikimedia.org/wikipedia/en/thumb/b/be/Flag_of_England.svg/40px-Flag_of_England.svg.png, Predicted: non-medical, Confidence: 1.0000\n",
            "Image: web_images/image_49.jpg, URL: https://upload.wikimedia.org/wikipedia/commons/thumb/8/88/Flag_of_Australia_%28converted%29.svg/40px-Flag_of_Australia_%28converted%29.svg.png, Predicted: non-medical, Confidence: 1.0000\n"
          ]
        },
        {
          "output_type": "stream",
          "name": "stderr",
          "text": [
            "/usr/local/lib/python3.11/dist-packages/PIL/Image.py:1047: UserWarning: Palette images with Transparency expressed in bytes should be converted to RGBA images\n",
            "  warnings.warn(\n"
          ]
        },
        {
          "output_type": "stream",
          "name": "stdout",
          "text": [
            "Image: web_images/image_50.jpg, URL: https://upload.wikimedia.org/wikipedia/commons/thumb/8/88/Flag_of_Australia_%28converted%29.svg/40px-Flag_of_Australia_%28converted%29.svg.png, Predicted: non-medical, Confidence: 1.0000\n",
            "Image: web_images/image_51.jpg, URL: https://upload.wikimedia.org/wikipedia/commons/thumb/1/18/WestIndiesCricketFlagPre1999.svg/40px-WestIndiesCricketFlagPre1999.svg.png, Predicted: non-medical, Confidence: 1.0000\n",
            "Image: web_images/image_52.jpg, URL: https://upload.wikimedia.org/wikipedia/commons/thumb/8/88/Flag_of_Australia_%28converted%29.svg/40px-Flag_of_Australia_%28converted%29.svg.png, Predicted: non-medical, Confidence: 1.0000\n",
            "Image: web_images/image_53.jpg, URL: https://upload.wikimedia.org/wikipedia/en/thumb/4/41/Flag_of_India.svg/40px-Flag_of_India.svg.png, Predicted: non-medical, Confidence: 1.0000\n",
            "Image: web_images/image_54.jpg, URL: https://upload.wikimedia.org/wikipedia/en/thumb/b/be/Flag_of_England.svg/40px-Flag_of_England.svg.png, Predicted: non-medical, Confidence: 1.0000\n",
            "Image: web_images/image_55.jpg, URL: https://upload.wikimedia.org/wikipedia/commons/thumb/1/11/Flag_of_Sri_Lanka.svg/40px-Flag_of_Sri_Lanka.svg.png, Predicted: non-medical, Confidence: 1.0000\n",
            "Image: web_images/image_56.jpg, URL: https://upload.wikimedia.org/wikipedia/commons/thumb/8/88/Flag_of_Australia_%28converted%29.svg/40px-Flag_of_Australia_%28converted%29.svg.png, Predicted: non-medical, Confidence: 1.0000\n",
            "Image: web_images/image_57.jpg, URL: https://upload.wikimedia.org/wikipedia/commons/thumb/8/88/Flag_of_Australia_%28converted%29.svg/40px-Flag_of_Australia_%28converted%29.svg.png, Predicted: non-medical, Confidence: 1.0000\n",
            "Image: web_images/image_58.jpg, URL: https://upload.wikimedia.org/wikipedia/commons/thumb/8/88/Flag_of_Australia_%28converted%29.svg/40px-Flag_of_Australia_%28converted%29.svg.png, Predicted: non-medical, Confidence: 1.0000\n",
            "Image: web_images/image_59.jpg, URL: https://upload.wikimedia.org/wikipedia/en/thumb/4/41/Flag_of_India.svg/40px-Flag_of_India.svg.png, Predicted: non-medical, Confidence: 1.0000\n",
            "Image: web_images/image_60.jpg, URL: https://upload.wikimedia.org/wikipedia/en/thumb/4/41/Flag_of_India.svg/40px-Flag_of_India.svg.png, Predicted: non-medical, Confidence: 1.0000\n",
            "Image: web_images/image_61.jpg, URL: https://upload.wikimedia.org/wikipedia/en/thumb/4/41/Flag_of_India.svg/40px-Flag_of_India.svg.png, Predicted: non-medical, Confidence: 1.0000\n",
            "Image: web_images/image_62.jpg, URL: https://upload.wikimedia.org/wikipedia/en/thumb/b/be/Flag_of_England.svg/40px-Flag_of_England.svg.png, Predicted: non-medical, Confidence: 1.0000\n",
            "Image: web_images/image_63.jpg, URL: https://upload.wikimedia.org/wikipedia/commons/thumb/3/32/Flag_of_Pakistan.svg/40px-Flag_of_Pakistan.svg.png, Predicted: non-medical, Confidence: 1.0000\n",
            "Image: web_images/image_64.jpg, URL: https://upload.wikimedia.org/wikipedia/commons/thumb/3/32/Flag_of_Pakistan.svg/40px-Flag_of_Pakistan.svg.png, Predicted: non-medical, Confidence: 1.0000\n",
            "Image: web_images/image_65.jpg, URL: https://upload.wikimedia.org/wikipedia/commons/thumb/8/88/Flag_of_Australia_%28converted%29.svg/40px-Flag_of_Australia_%28converted%29.svg.png, Predicted: non-medical, Confidence: 1.0000\n",
            "Image: web_images/image_66.jpg, URL: https://upload.wikimedia.org/wikipedia/en/thumb/4/41/Flag_of_India.svg/40px-Flag_of_India.svg.png, Predicted: non-medical, Confidence: 1.0000\n",
            "Image: web_images/image_67.jpg, URL: https://upload.wikimedia.org/wikipedia/commons/thumb/8/88/Flag_of_Australia_%28converted%29.svg/40px-Flag_of_Australia_%28converted%29.svg.png, Predicted: non-medical, Confidence: 1.0000\n",
            "Image: web_images/image_68.jpg, URL: https://upload.wikimedia.org/wikipedia/commons/thumb/8/88/Flag_of_Australia_%28converted%29.svg/40px-Flag_of_Australia_%28converted%29.svg.png, Predicted: non-medical, Confidence: 1.0000\n",
            "Image: web_images/image_69.jpg, URL: https://upload.wikimedia.org/wikipedia/en/thumb/4/41/Flag_of_India.svg/40px-Flag_of_India.svg.png, Predicted: non-medical, Confidence: 1.0000\n",
            "Image: web_images/image_70.jpg, URL: https://upload.wikimedia.org/wikipedia/commons/thumb/1/18/WestIndiesCricketFlagPre1999.svg/40px-WestIndiesCricketFlagPre1999.svg.png, Predicted: non-medical, Confidence: 1.0000\n",
            "Image: web_images/image_71.jpg, URL: https://upload.wikimedia.org/wikipedia/commons/thumb/1/18/WestIndiesCricketFlagPre1999.svg/40px-WestIndiesCricketFlagPre1999.svg.png, Predicted: non-medical, Confidence: 1.0000\n",
            "Image: web_images/image_72.jpg, URL: https://upload.wikimedia.org/wikipedia/commons/thumb/8/88/Flag_of_Australia_%28converted%29.svg/40px-Flag_of_Australia_%28converted%29.svg.png, Predicted: non-medical, Confidence: 1.0000\n",
            "Image: web_images/image_73.jpg, URL: https://upload.wikimedia.org/wikipedia/commons/thumb/8/88/Flag_of_Australia_%28converted%29.svg/40px-Flag_of_Australia_%28converted%29.svg.png, Predicted: non-medical, Confidence: 1.0000\n",
            "Image: web_images/image_74.jpg, URL: https://upload.wikimedia.org/wikipedia/commons/thumb/1/18/WestIndiesCricketFlagPre1999.svg/40px-WestIndiesCricketFlagPre1999.svg.png, Predicted: non-medical, Confidence: 1.0000\n",
            "Image: web_images/image_75.jpg, URL: https://upload.wikimedia.org/wikipedia/en/thumb/4/41/Flag_of_India.svg/40px-Flag_of_India.svg.png, Predicted: non-medical, Confidence: 1.0000\n",
            "Image: web_images/image_76.jpg, URL: https://upload.wikimedia.org/wikipedia/en/thumb/b/be/Flag_of_England.svg/40px-Flag_of_England.svg.png, Predicted: non-medical, Confidence: 1.0000\n",
            "Image: web_images/image_77.jpg, URL: https://upload.wikimedia.org/wikipedia/commons/thumb/1/18/WestIndiesCricketFlagPre1999.svg/40px-WestIndiesCricketFlagPre1999.svg.png, Predicted: non-medical, Confidence: 1.0000\n",
            "Image: web_images/image_78.jpg, URL: https://upload.wikimedia.org/wikipedia/commons/thumb/1/18/WestIndiesCricketFlagPre1999.svg/40px-WestIndiesCricketFlagPre1999.svg.png, Predicted: non-medical, Confidence: 1.0000\n",
            "Image: web_images/image_79.jpg, URL: https://upload.wikimedia.org/wikipedia/en/thumb/b/be/Flag_of_England.svg/40px-Flag_of_England.svg.png, Predicted: non-medical, Confidence: 1.0000\n",
            "Image: web_images/image_80.jpg, URL: https://upload.wikimedia.org/wikipedia/en/thumb/4/41/Flag_of_India.svg/40px-Flag_of_India.svg.png, Predicted: non-medical, Confidence: 1.0000\n",
            "Image: web_images/image_81.jpg, URL: https://upload.wikimedia.org/wikipedia/en/thumb/b/be/Flag_of_England.svg/40px-Flag_of_England.svg.png, Predicted: non-medical, Confidence: 1.0000\n",
            "Image: web_images/image_82.jpg, URL: https://upload.wikimedia.org/wikipedia/en/thumb/4/41/Flag_of_India.svg/40px-Flag_of_India.svg.png, Predicted: non-medical, Confidence: 1.0000\n",
            "Image: web_images/image_83.jpg, URL: https://upload.wikimedia.org/wikipedia/commons/thumb/1/18/WestIndiesCricketFlagPre1999.svg/40px-WestIndiesCricketFlagPre1999.svg.png, Predicted: non-medical, Confidence: 1.0000\n",
            "Image: web_images/image_84.jpg, URL: https://upload.wikimedia.org/wikipedia/en/thumb/e/e2/Symbol_portal_class.svg/20px-Symbol_portal_class.svg.png, Predicted: non-medical, Confidence: 1.0000\n",
            "Image: web_images/image_85.jpg, URL: https://upload.wikimedia.org/wikipedia/en/thumb/9/96/Symbol_category_class.svg/20px-Symbol_category_class.svg.png, Predicted: non-medical, Confidence: 1.0000\n",
            "Image: web_images/image_86.jpg, URL: https://upload.wikimedia.org/wikipedia/commons/thumb/3/37/People_icon.svg/20px-People_icon.svg.png, Predicted: non-medical, Confidence: 1.0000\n",
            "Image: web_images/image_87.jpg, URL: https://upload.wikimedia.org/wikipedia/commons/thumb/8/88/Flag_of_Australia_%28converted%29.svg/40px-Flag_of_Australia_%28converted%29.svg.png, Predicted: non-medical, Confidence: 1.0000\n",
            "Image: web_images/image_88.jpg, URL: https://upload.wikimedia.org/wikipedia/en/thumb/b/be/Flag_of_England.svg/40px-Flag_of_England.svg.png, Predicted: non-medical, Confidence: 1.0000\n",
            "Image: web_images/image_89.jpg, URL: https://upload.wikimedia.org/wikipedia/en/thumb/4/41/Flag_of_India.svg/40px-Flag_of_India.svg.png, Predicted: non-medical, Confidence: 1.0000\n",
            "Image: web_images/image_90.jpg, URL: https://upload.wikimedia.org/wikipedia/commons/thumb/3/3e/Flag_of_New_Zealand.svg/40px-Flag_of_New_Zealand.svg.png, Predicted: non-medical, Confidence: 1.0000\n",
            "Image: web_images/image_91.jpg, URL: https://upload.wikimedia.org/wikipedia/commons/thumb/3/32/Flag_of_Pakistan.svg/40px-Flag_of_Pakistan.svg.png, Predicted: non-medical, Confidence: 1.0000\n",
            "Image: web_images/image_92.jpg, URL: https://upload.wikimedia.org/wikipedia/commons/thumb/a/af/Flag_of_South_Africa.svg/40px-Flag_of_South_Africa.svg.png, Predicted: non-medical, Confidence: 1.0000\n",
            "Image: web_images/image_93.jpg, URL: https://upload.wikimedia.org/wikipedia/commons/thumb/1/11/Flag_of_Sri_Lanka.svg/40px-Flag_of_Sri_Lanka.svg.png, Predicted: non-medical, Confidence: 1.0000\n",
            "Image: web_images/image_94.jpg, URL: https://upload.wikimedia.org/wikipedia/commons/thumb/1/18/WestIndiesCricketFlagPre1999.svg/40px-WestIndiesCricketFlagPre1999.svg.png, Predicted: non-medical, Confidence: 1.0000\n",
            "Image: web_images/image_95.jpg, URL: https://upload.wikimedia.org/wikipedia/commons/thumb/6/6a/Flag_of_Zimbabwe.svg/40px-Flag_of_Zimbabwe.svg.png, Predicted: non-medical, Confidence: 1.0000\n",
            "Image: web_images/image_96.jpg, URL: https://upload.wikimedia.org/wikipedia/commons/thumb/8/88/Flag_of_Australia_%28converted%29.svg/40px-Flag_of_Australia_%28converted%29.svg.png, Predicted: non-medical, Confidence: 1.0000\n",
            "Image: web_images/image_97.jpg, URL: https://upload.wikimedia.org/wikipedia/en/thumb/b/be/Flag_of_England.svg/40px-Flag_of_England.svg.png, Predicted: non-medical, Confidence: 1.0000\n",
            "Image: web_images/image_98.jpg, URL: https://upload.wikimedia.org/wikipedia/en/thumb/4/41/Flag_of_India.svg/40px-Flag_of_India.svg.png, Predicted: non-medical, Confidence: 1.0000\n",
            "Image: web_images/image_99.jpg, URL: https://upload.wikimedia.org/wikipedia/commons/thumb/3/32/Flag_of_Pakistan.svg/40px-Flag_of_Pakistan.svg.png, Predicted: non-medical, Confidence: 1.0000\n",
            "Image: web_images/image_100.jpg, URL: https://upload.wikimedia.org/wikipedia/commons/thumb/a/af/Flag_of_South_Africa.svg/40px-Flag_of_South_Africa.svg.png, Predicted: non-medical, Confidence: 1.0000\n",
            "Image: web_images/image_101.jpg, URL: https://upload.wikimedia.org/wikipedia/commons/thumb/1/11/Flag_of_Sri_Lanka.svg/40px-Flag_of_Sri_Lanka.svg.png, Predicted: non-medical, Confidence: 1.0000\n",
            "Image: web_images/image_102.jpg, URL: https://upload.wikimedia.org/wikipedia/commons/thumb/1/18/WestIndiesCricketFlagPre1999.svg/40px-WestIndiesCricketFlagPre1999.svg.png, Predicted: non-medical, Confidence: 1.0000\n",
            "Image: web_images/image_103.jpg, URL: https://upload.wikimedia.org/wikipedia/commons/thumb/8/88/Flag_of_Australia_%28converted%29.svg/40px-Flag_of_Australia_%28converted%29.svg.png, Predicted: non-medical, Confidence: 1.0000\n",
            "Image: web_images/image_104.jpg, URL: https://upload.wikimedia.org/wikipedia/en/thumb/4/41/Flag_of_India.svg/40px-Flag_of_India.svg.png, Predicted: non-medical, Confidence: 1.0000\n",
            "Image: web_images/image_105.jpg, URL: https://upload.wikimedia.org/wikipedia/commons/thumb/3/32/Flag_of_Pakistan.svg/40px-Flag_of_Pakistan.svg.png, Predicted: non-medical, Confidence: 1.0000\n",
            "Image: web_images/image_106.jpg, URL: https://upload.wikimedia.org/wikipedia/commons/thumb/a/af/Flag_of_South_Africa.svg/40px-Flag_of_South_Africa.svg.png, Predicted: non-medical, Confidence: 1.0000\n",
            "Image: web_images/image_107.jpg, URL: https://upload.wikimedia.org/wikipedia/commons/thumb/1/11/Flag_of_Sri_Lanka.svg/40px-Flag_of_Sri_Lanka.svg.png, Predicted: non-medical, Confidence: 1.0000\n",
            "Image: web_images/image_108.jpg, URL: https://upload.wikimedia.org/wikipedia/commons/thumb/1/18/WestIndiesCricketFlagPre1999.svg/40px-WestIndiesCricketFlagPre1999.svg.png, Predicted: non-medical, Confidence: 1.0000\n",
            "Image: web_images/image_109.jpg, URL: https://upload.wikimedia.org/wikipedia/en/thumb/4/41/Flag_of_India.svg/60px-Flag_of_India.svg.png, Predicted: non-medical, Confidence: 1.0000\n",
            "Image: web_images/image_110.jpg, URL: https://upload.wikimedia.org/wikipedia/en/thumb/4/41/Flag_of_India.svg/60px-Flag_of_India.svg.png, Predicted: non-medical, Confidence: 1.0000\n",
            "Image: web_images/image_111.jpg, URL: https://upload.wikimedia.org/wikipedia/en/thumb/4/41/Flag_of_India.svg/60px-Flag_of_India.svg.png, Predicted: non-medical, Confidence: 1.0000\n",
            "Image: web_images/image_112.jpg, URL: https://upload.wikimedia.org/wikipedia/en/thumb/4/41/Flag_of_India.svg/60px-Flag_of_India.svg.png, Predicted: non-medical, Confidence: 1.0000\n",
            "Image: web_images/image_113.jpg, URL: https://upload.wikimedia.org/wikipedia/en/thumb/4/41/Flag_of_India.svg/60px-Flag_of_India.svg.png, Predicted: non-medical, Confidence: 1.0000\n",
            "Image: web_images/image_114.jpg, URL: https://upload.wikimedia.org/wikipedia/en/thumb/4/41/Flag_of_India.svg/60px-Flag_of_India.svg.png, Predicted: non-medical, Confidence: 1.0000\n",
            "Image: web_images/image_115.jpg, URL: https://upload.wikimedia.org/wikipedia/en/thumb/4/41/Flag_of_India.svg/60px-Flag_of_India.svg.png, Predicted: non-medical, Confidence: 1.0000\n",
            "Image: web_images/image_116.jpg, URL: https://upload.wikimedia.org/wikipedia/en/thumb/4/41/Flag_of_India.svg/60px-Flag_of_India.svg.png, Predicted: non-medical, Confidence: 1.0000\n",
            "Image: web_images/image_117.jpg, URL: https://upload.wikimedia.org/wikipedia/en/thumb/4/41/Flag_of_India.svg/60px-Flag_of_India.svg.png, Predicted: non-medical, Confidence: 1.0000\n",
            "Image: web_images/image_118.jpg, URL: https://upload.wikimedia.org/wikipedia/en/thumb/6/69/P_vip.svg/20px-P_vip.svg.png, Predicted: non-medical, Confidence: 1.0000\n",
            "Image: web_images/image_119.jpg, URL: https://upload.wikimedia.org/wikipedia/en/thumb/4/41/Flag_of_India.svg/40px-Flag_of_India.svg.png, Predicted: non-medical, Confidence: 1.0000\n",
            "Image: web_images/image_120.jpg, URL: https://upload.wikimedia.org/wikipedia/commons/thumb/b/b0/Cricketball.png/20px-Cricketball.png, Predicted: non-medical, Confidence: 1.0000\n",
            "Image: web_images/image_121.jpg, URL: https://upload.wikimedia.org/wikipedia/commons/thumb/9/95/Sports_icon.png/40px-Sports_icon.png, Predicted: non-medical, Confidence: 1.0000\n",
            "Image: web_images/image_122.jpg, URL: https://upload.wikimedia.org/wikipedia/en/thumb/8/8a/OOjs_UI_icon_edit-ltr-progressive.svg/20px-OOjs_UI_icon_edit-ltr-progressive.svg.png, Predicted: non-medical, Confidence: 1.0000\n"
          ]
        }
      ],
      "source": [
        "for image_path, image_url in image_paths_urls:\n",
        "    predicted_class, confidence = predict_image(image_path, model, transform, device)\n",
        "    if predicted_class:\n",
        "        print(f\"Image: {image_path}, URL: {image_url}, Predicted: {predicted_class}, Confidence: {confidence:.4f}\")\n",
        "    else:\n",
        "        print(f\"Image: {image_path}, URL: {image_url}, Error: {confidence}\")"
      ]
    },
    {
      "cell_type": "code",
      "execution_count": 25,
      "metadata": {
        "id": "yOdhnDmyNBz_",
        "colab": {
          "base_uri": "https://localhost:8080/"
        },
        "outputId": "7a25c62c-f1bc-486a-a643-44a08ba68213"
      },
      "outputs": [
        {
          "output_type": "stream",
          "name": "stdout",
          "text": [
            "Collecting pdf2image\n",
            "  Downloading pdf2image-1.17.0-py3-none-any.whl.metadata (6.2 kB)\n",
            "Requirement already satisfied: pillow in /usr/local/lib/python3.11/dist-packages (from pdf2image) (11.3.0)\n",
            "Downloading pdf2image-1.17.0-py3-none-any.whl (11 kB)\n",
            "Installing collected packages: pdf2image\n",
            "Successfully installed pdf2image-1.17.0\n",
            "Reading package lists... Done\n",
            "Building dependency tree... Done\n",
            "Reading state information... Done\n",
            "The following NEW packages will be installed:\n",
            "  poppler-utils\n",
            "0 upgraded, 1 newly installed, 0 to remove and 35 not upgraded.\n",
            "Need to get 186 kB of archives.\n",
            "After this operation, 697 kB of additional disk space will be used.\n",
            "Get:1 http://archive.ubuntu.com/ubuntu jammy-updates/main amd64 poppler-utils amd64 22.02.0-2ubuntu0.9 [186 kB]\n",
            "Fetched 186 kB in 1s (138 kB/s)\n",
            "Selecting previously unselected package poppler-utils.\n",
            "(Reading database ... 126284 files and directories currently installed.)\n",
            "Preparing to unpack .../poppler-utils_22.02.0-2ubuntu0.9_amd64.deb ...\n",
            "Unpacking poppler-utils (22.02.0-2ubuntu0.9) ...\n",
            "Setting up poppler-utils (22.02.0-2ubuntu0.9) ...\n",
            "Processing triggers for man-db (2.10.2-1) ...\n"
          ]
        }
      ],
      "source": [
        "!pip install pdf2image\n",
        "!apt-get install -y poppler-utils\n"
      ]
    },
    {
      "cell_type": "code",
      "execution_count": 26,
      "metadata": {
        "id": "PabeJJEgNE39"
      },
      "outputs": [],
      "source": [
        "from pdf2image import convert_from_path\n",
        "\n",
        "def extract_images_from_pdf(pdf_files, save_dir=\"pdf_images\"):\n",
        "    if not os.path.exists(save_dir):\n",
        "        os.makedirs(save_dir)\n",
        "\n",
        "    extracted_paths = []\n",
        "    for pdf_file in pdf_files:\n",
        "        try:\n",
        "            # Convert PDF to images\n",
        "            images = convert_from_path(pdf_file)\n",
        "            pdf_name = os.path.basename(pdf_file)\n",
        "            for i, image in enumerate(images):\n",
        "                img_name = os.path.join(save_dir, f'{pdf_name}_page_{i+1}.jpg')\n",
        "                image.save(img_name, 'JPEG')\n",
        "                extracted_paths.append((img_name, None, pdf_name))  # None for URL\n",
        "                print(f\"Extracted: {img_name} from {pdf_name}\")\n",
        "        except Exception as e:\n",
        "            print(f\"Error processing PDF {pdf_file}: {e}\")\n",
        "\n",
        "    return extracted_paths\n"
      ]
    },
    {
      "cell_type": "code",
      "execution_count": null,
      "metadata": {
        "id": "mRraWBj4O2WU"
      },
      "outputs": [],
      "source": [
        "from google.colab import files\n",
        "\n",
        "# Upload PDF files\n",
        "uploaded_pdfs = files.upload()\n",
        "pdf_paths = list(uploaded_pdfs.keys())\n",
        "\n",
        "# Extract and classify\n",
        "extracted_images = extract_images_from_pdf(pdf_paths)\n",
        "\n",
        "for image_path, _, source_pdf in extracted_images:\n",
        "    predicted_class, confidence = predict_image(image_path, model, transform, device)\n",
        "    if predicted_class:\n",
        "        print(f\"Image: {image_path}, Source PDF: {source_pdf}, Predicted: {predicted_class}, Confidence: {confidence:.4f}\")\n",
        "    else:\n",
        "        print(f\"Image: {image_path}, Source PDF: {source_pdf}, Error: {confidence}\")\n"
      ]
    },
    {
      "cell_type": "code",
      "execution_count": 27,
      "metadata": {
        "collapsed": true,
        "id": "t-B_4HbKO491",
        "colab": {
          "base_uri": "https://localhost:8080/"
        },
        "outputId": "689c65ba-d5f3-48d6-b414-3c1fb15f6dd1"
      },
      "outputs": [
        {
          "output_type": "stream",
          "name": "stdout",
          "text": [
            "Requirement already satisfied: gradio in /usr/local/lib/python3.11/dist-packages (5.39.0)\n",
            "Requirement already satisfied: pdf2image in /usr/local/lib/python3.11/dist-packages (1.17.0)\n",
            "Requirement already satisfied: aiofiles<25.0,>=22.0 in /usr/local/lib/python3.11/dist-packages (from gradio) (24.1.0)\n",
            "Requirement already satisfied: anyio<5.0,>=3.0 in /usr/local/lib/python3.11/dist-packages (from gradio) (4.10.0)\n",
            "Requirement already satisfied: brotli>=1.1.0 in /usr/local/lib/python3.11/dist-packages (from gradio) (1.1.0)\n",
            "Requirement already satisfied: fastapi<1.0,>=0.115.2 in /usr/local/lib/python3.11/dist-packages (from gradio) (0.116.1)\n",
            "Requirement already satisfied: ffmpy in /usr/local/lib/python3.11/dist-packages (from gradio) (0.6.1)\n",
            "Requirement already satisfied: gradio-client==1.11.0 in /usr/local/lib/python3.11/dist-packages (from gradio) (1.11.0)\n",
            "Requirement already satisfied: groovy~=0.1 in /usr/local/lib/python3.11/dist-packages (from gradio) (0.1.2)\n",
            "Requirement already satisfied: httpx<1.0,>=0.24.1 in /usr/local/lib/python3.11/dist-packages (from gradio) (0.28.1)\n",
            "Requirement already satisfied: huggingface-hub<1.0,>=0.33.5 in /usr/local/lib/python3.11/dist-packages (from gradio) (0.34.3)\n",
            "Requirement already satisfied: jinja2<4.0 in /usr/local/lib/python3.11/dist-packages (from gradio) (3.1.6)\n",
            "Requirement already satisfied: markupsafe<4.0,>=2.0 in /usr/local/lib/python3.11/dist-packages (from gradio) (3.0.2)\n",
            "Requirement already satisfied: numpy<3.0,>=1.0 in /usr/local/lib/python3.11/dist-packages (from gradio) (2.0.2)\n",
            "Requirement already satisfied: orjson~=3.0 in /usr/local/lib/python3.11/dist-packages (from gradio) (3.11.1)\n",
            "Requirement already satisfied: packaging in /usr/local/lib/python3.11/dist-packages (from gradio) (25.0)\n",
            "Requirement already satisfied: pandas<3.0,>=1.0 in /usr/local/lib/python3.11/dist-packages (from gradio) (2.2.2)\n",
            "Requirement already satisfied: pillow<12.0,>=8.0 in /usr/local/lib/python3.11/dist-packages (from gradio) (11.3.0)\n",
            "Requirement already satisfied: pydantic<2.12,>=2.0 in /usr/local/lib/python3.11/dist-packages (from gradio) (2.11.7)\n",
            "Requirement already satisfied: pydub in /usr/local/lib/python3.11/dist-packages (from gradio) (0.25.1)\n",
            "Requirement already satisfied: python-multipart>=0.0.18 in /usr/local/lib/python3.11/dist-packages (from gradio) (0.0.20)\n",
            "Requirement already satisfied: pyyaml<7.0,>=5.0 in /usr/local/lib/python3.11/dist-packages (from gradio) (6.0.2)\n",
            "Requirement already satisfied: ruff>=0.9.3 in /usr/local/lib/python3.11/dist-packages (from gradio) (0.12.7)\n",
            "Requirement already satisfied: safehttpx<0.2.0,>=0.1.6 in /usr/local/lib/python3.11/dist-packages (from gradio) (0.1.6)\n",
            "Requirement already satisfied: semantic-version~=2.0 in /usr/local/lib/python3.11/dist-packages (from gradio) (2.10.0)\n",
            "Requirement already satisfied: starlette<1.0,>=0.40.0 in /usr/local/lib/python3.11/dist-packages (from gradio) (0.47.2)\n",
            "Requirement already satisfied: tomlkit<0.14.0,>=0.12.0 in /usr/local/lib/python3.11/dist-packages (from gradio) (0.13.3)\n",
            "Requirement already satisfied: typer<1.0,>=0.12 in /usr/local/lib/python3.11/dist-packages (from gradio) (0.16.0)\n",
            "Requirement already satisfied: typing-extensions~=4.0 in /usr/local/lib/python3.11/dist-packages (from gradio) (4.14.1)\n",
            "Requirement already satisfied: uvicorn>=0.14.0 in /usr/local/lib/python3.11/dist-packages (from gradio) (0.35.0)\n",
            "Requirement already satisfied: fsspec in /usr/local/lib/python3.11/dist-packages (from gradio-client==1.11.0->gradio) (2025.3.0)\n",
            "Requirement already satisfied: websockets<16.0,>=10.0 in /usr/local/lib/python3.11/dist-packages (from gradio-client==1.11.0->gradio) (15.0.1)\n",
            "Requirement already satisfied: idna>=2.8 in /usr/local/lib/python3.11/dist-packages (from anyio<5.0,>=3.0->gradio) (3.10)\n",
            "Requirement already satisfied: sniffio>=1.1 in /usr/local/lib/python3.11/dist-packages (from anyio<5.0,>=3.0->gradio) (1.3.1)\n",
            "Requirement already satisfied: certifi in /usr/local/lib/python3.11/dist-packages (from httpx<1.0,>=0.24.1->gradio) (2025.8.3)\n",
            "Requirement already satisfied: httpcore==1.* in /usr/local/lib/python3.11/dist-packages (from httpx<1.0,>=0.24.1->gradio) (1.0.9)\n",
            "Requirement already satisfied: h11>=0.16 in /usr/local/lib/python3.11/dist-packages (from httpcore==1.*->httpx<1.0,>=0.24.1->gradio) (0.16.0)\n",
            "Requirement already satisfied: filelock in /usr/local/lib/python3.11/dist-packages (from huggingface-hub<1.0,>=0.33.5->gradio) (3.18.0)\n",
            "Requirement already satisfied: requests in /usr/local/lib/python3.11/dist-packages (from huggingface-hub<1.0,>=0.33.5->gradio) (2.32.3)\n",
            "Requirement already satisfied: tqdm>=4.42.1 in /usr/local/lib/python3.11/dist-packages (from huggingface-hub<1.0,>=0.33.5->gradio) (4.67.1)\n",
            "Requirement already satisfied: hf-xet<2.0.0,>=1.1.3 in /usr/local/lib/python3.11/dist-packages (from huggingface-hub<1.0,>=0.33.5->gradio) (1.1.5)\n",
            "Requirement already satisfied: python-dateutil>=2.8.2 in /usr/local/lib/python3.11/dist-packages (from pandas<3.0,>=1.0->gradio) (2.9.0.post0)\n",
            "Requirement already satisfied: pytz>=2020.1 in /usr/local/lib/python3.11/dist-packages (from pandas<3.0,>=1.0->gradio) (2025.2)\n",
            "Requirement already satisfied: tzdata>=2022.7 in /usr/local/lib/python3.11/dist-packages (from pandas<3.0,>=1.0->gradio) (2025.2)\n",
            "Requirement already satisfied: annotated-types>=0.6.0 in /usr/local/lib/python3.11/dist-packages (from pydantic<2.12,>=2.0->gradio) (0.7.0)\n",
            "Requirement already satisfied: pydantic-core==2.33.2 in /usr/local/lib/python3.11/dist-packages (from pydantic<2.12,>=2.0->gradio) (2.33.2)\n",
            "Requirement already satisfied: typing-inspection>=0.4.0 in /usr/local/lib/python3.11/dist-packages (from pydantic<2.12,>=2.0->gradio) (0.4.1)\n",
            "Requirement already satisfied: click>=8.0.0 in /usr/local/lib/python3.11/dist-packages (from typer<1.0,>=0.12->gradio) (8.2.1)\n",
            "Requirement already satisfied: shellingham>=1.3.0 in /usr/local/lib/python3.11/dist-packages (from typer<1.0,>=0.12->gradio) (1.5.4)\n",
            "Requirement already satisfied: rich>=10.11.0 in /usr/local/lib/python3.11/dist-packages (from typer<1.0,>=0.12->gradio) (13.9.4)\n",
            "Requirement already satisfied: six>=1.5 in /usr/local/lib/python3.11/dist-packages (from python-dateutil>=2.8.2->pandas<3.0,>=1.0->gradio) (1.17.0)\n",
            "Requirement already satisfied: markdown-it-py>=2.2.0 in /usr/local/lib/python3.11/dist-packages (from rich>=10.11.0->typer<1.0,>=0.12->gradio) (3.0.0)\n",
            "Requirement already satisfied: pygments<3.0.0,>=2.13.0 in /usr/local/lib/python3.11/dist-packages (from rich>=10.11.0->typer<1.0,>=0.12->gradio) (2.19.2)\n",
            "Requirement already satisfied: charset-normalizer<4,>=2 in /usr/local/lib/python3.11/dist-packages (from requests->huggingface-hub<1.0,>=0.33.5->gradio) (3.4.2)\n",
            "Requirement already satisfied: urllib3<3,>=1.21.1 in /usr/local/lib/python3.11/dist-packages (from requests->huggingface-hub<1.0,>=0.33.5->gradio) (2.5.0)\n",
            "Requirement already satisfied: mdurl~=0.1 in /usr/local/lib/python3.11/dist-packages (from markdown-it-py>=2.2.0->rich>=10.11.0->typer<1.0,>=0.12->gradio) (0.1.2)\n",
            "Reading package lists... Done\n",
            "Building dependency tree... Done\n",
            "Reading state information... Done\n",
            "poppler-utils is already the newest version (22.02.0-2ubuntu0.9).\n",
            "0 upgraded, 0 newly installed, 0 to remove and 35 not upgraded.\n"
          ]
        }
      ],
      "source": [
        "!pip install gradio pdf2image\n",
        "!apt-get install -y poppler-utils\n"
      ]
    },
    {
      "cell_type": "markdown",
      "metadata": {
        "id": "mxwvmcu0SKwQ"
      },
      "source": [
        "Implementing a simple UI for the task using Gradio"
      ]
    },
    {
      "cell_type": "code",
      "execution_count": 28,
      "metadata": {
        "id": "x4llmbWYO7IP"
      },
      "outputs": [],
      "source": [
        "import gradio as gr\n",
        "from pdf2image import convert_from_path\n",
        "import os\n",
        "import tempfile\n",
        "from PIL import Image\n",
        "\n",
        "# Assume these are already defined and imported:\n",
        "# - predict_image(image_path, model, transform, device)\n",
        "# - download_images_from_url(url) → returns List[(img_path, img_url)]\n",
        "# - extract_images_from_pdf(pdf_paths) → returns List[(img_path, page_num, pdfname)]\n",
        "\n",
        "# 🔹 Predict for Single Image Upload\n",
        "def predict_single_image(image):\n",
        "    if image is None:\n",
        "        return []\n",
        "\n",
        "    with tempfile.NamedTemporaryFile(delete=False, suffix=\".jpg\") as temp_file:\n",
        "        temp_path = temp_file.name\n",
        "        image.save(temp_path)\n",
        "\n",
        "    pred, conf = predict_image(temp_path, model, transform, device)\n",
        "    return [(temp_path, f\"{pred} ({conf:.2f})\")]\n",
        "\n",
        "# 🔹 Predict from URL (Scrape and classify multiple images)\n",
        "def predict_from_url(url):\n",
        "    results = []\n",
        "    image_paths = download_images_from_url(url)\n",
        "\n",
        "    for img_path, img_url in image_paths:  # limit for performance\n",
        "        pred, conf = predict_image(img_path, model, transform, device)\n",
        "        results.append((img_path, f\"{pred} ({conf:.2f})\"))\n",
        "    return results\n",
        "\n",
        "# 🔹 Predict from PDF (Extract images and classify)\n",
        "def predict_from_pdf(pdf):\n",
        "    if pdf is None:\n",
        "        return []\n",
        "\n",
        "    with open(\"temp.pdf\", \"wb\") as f:\n",
        "        f.write(pdf.read())\n",
        "\n",
        "    extracted = extract_images_from_pdf([\"temp.pdf\"])\n",
        "    results = []\n",
        "    for img_path, _, _ in extracted:  # Limit for speed\n",
        "        pred, conf = predict_image(img_path, model, transform, device)\n",
        "        results.append((img_path, f\"{pred} ({conf:.2f})\"))\n",
        "    return results\n"
      ]
    },
    {
      "cell_type": "code",
      "execution_count": 29,
      "metadata": {
        "id": "pbH1eJ3-O87L",
        "colab": {
          "base_uri": "https://localhost:8080/",
          "height": 646
        },
        "outputId": "35b103e8-197f-4531-d010-b15551e75355"
      },
      "outputs": [
        {
          "output_type": "stream",
          "name": "stdout",
          "text": [
            "It looks like you are running Gradio on a hosted Jupyter notebook, which requires `share=True`. Automatically setting `share=True` (you can turn this off by setting `share=False` in `launch()` explicitly).\n",
            "\n",
            "Colab notebook detected. To show errors in colab notebook, set debug=True in launch()\n",
            "* Running on public URL: https://7051093ff5baea0901.gradio.live\n",
            "\n",
            "This share link expires in 1 week. For free permanent hosting and GPU upgrades, run `gradio deploy` from the terminal in the working directory to deploy to Hugging Face Spaces (https://huggingface.co/spaces)\n"
          ]
        },
        {
          "output_type": "display_data",
          "data": {
            "text/plain": [
              "<IPython.core.display.HTML object>"
            ],
            "text/html": [
              "<div><iframe src=\"https://7051093ff5baea0901.gradio.live\" width=\"100%\" height=\"500\" allow=\"autoplay; camera; microphone; clipboard-read; clipboard-write;\" frameborder=\"0\" allowfullscreen></iframe></div>"
            ]
          },
          "metadata": {}
        },
        {
          "output_type": "execute_result",
          "data": {
            "text/plain": []
          },
          "metadata": {},
          "execution_count": 29
        }
      ],
      "source": [
        "with gr.Blocks() as demo:\n",
        "    gr.Markdown(\"### 🩻 Medical vs Non-Medical Image Classifier\")\n",
        "\n",
        "    with gr.Tab(\"Single Image Upload\"):\n",
        "        img_input = gr.Image(type=\"pil\")\n",
        "        img_btn = gr.Button(\"Classify Image\")\n",
        "        img_out = gr.Gallery(label=\"Prediction\", show_label=True, columns=3, height=300)\n",
        "\n",
        "\n",
        "    with gr.Tab(\"From URL\"):\n",
        "        url_input = gr.Textbox(label=\"Enter Web Page URL\")\n",
        "        url_btn = gr.Button(\"Fetch & Classify\")\n",
        "        url_out = gr.Gallery(label=\"Predictions\", show_label=True, columns=3, height=300)\n",
        "\n",
        "\n",
        "    with gr.Tab(\"From PDF\"):\n",
        "        pdf_input = gr.File(file_types=[\".pdf\"], label=\"Upload PDF\")\n",
        "        pdf_btn = gr.Button(\"Extract & Classify\")\n",
        "        pdf_out = gr.Gallery(label=\"Predictions\", show_label=True)\n",
        "\n",
        "    img_btn.click(fn=predict_single_image, inputs=img_input, outputs=img_out)\n",
        "    url_btn.click(fn=predict_from_url, inputs=url_input, outputs=url_out)\n",
        "    pdf_btn.click(fn=predict_from_pdf, inputs=pdf_input, outputs=pdf_out)\n",
        "\n",
        "demo.launch()\n"
      ]
    },
    {
      "cell_type": "code",
      "execution_count": null,
      "metadata": {
        "id": "L-3mETF8nUwr"
      },
      "outputs": [],
      "source": []
    },
    {
      "cell_type": "code",
      "execution_count": null,
      "metadata": {
        "id": "gWJxLUKIoCWB"
      },
      "outputs": [],
      "source": []
    }
  ],
  "metadata": {
    "accelerator": "GPU",
    "colab": {
      "gpuType": "T4",
      "provenance": [],
      "authorship_tag": "ABX9TyNNbaD71MEGHWFZ/DElu23m",
      "include_colab_link": true
    },
    "kernelspec": {
      "display_name": "Python 3",
      "name": "python3"
    },
    "language_info": {
      "name": "python"
    }
  },
  "nbformat": 4,
  "nbformat_minor": 0
}