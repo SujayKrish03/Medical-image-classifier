{
  "cells": [
    {
      "cell_type": "markdown",
      "metadata": {
        "id": "view-in-github",
        "colab_type": "text"
      },
      "source": [
        "<a href=\"https://colab.research.google.com/github/SujayKrish03/Medical-image-classifier/blob/main/medicalmain.ipynb\" target=\"_parent\"><img src=\"https://colab.research.google.com/assets/colab-badge.svg\" alt=\"Open In Colab\"/></a>"
      ]
    },
    {
      "cell_type": "markdown",
      "metadata": {
        "id": "hf6ylviySRC5"
      },
      "source": [
        "                                        **Medical and Non Medical Image Classifier**\n",
        "\n",
        "\n"
      ]
    },
    {
      "cell_type": "markdown",
      "metadata": {
        "id": "zGh4csyHQ4v-"
      },
      "source": [
        "The code imports libraries for building a CNN-based medical image classifier using PyTorch, enabling image preprocessing, dataset loading, and model training for tasks like disease detection from X-rays or MRIs. It also includes tools for web scraping medical images, file management, and image processing to support data collection and preparation."
      ]
    },
    {
      "cell_type": "code",
      "execution_count": null,
      "metadata": {
        "id": "yohTiipCiO5P"
      },
      "outputs": [],
      "source": [
        "import torch\n",
        "import torchvision.transforms as transforms\n",
        "import torchvision.datasets as datasets\n",
        "from torch.utils.data import DataLoader\n",
        "import torch.nn as nn\n",
        "import requests\n",
        "from bs4 import BeautifulSoup\n",
        "import urllib.request\n",
        "import os\n",
        "from PIL import Image\n",
        "import shutil"
      ]
    },
    {
      "cell_type": "code",
      "execution_count": null,
      "metadata": {
        "id": "ysFoarHliQDO"
      },
      "outputs": [],
      "source": [
        "device = torch.device('cuda' if torch.cuda.is_available() else 'cpu')"
      ]
    },
    {
      "cell_type": "code",
      "execution_count": null,
      "metadata": {
        "collapsed": true,
        "id": "6u3UtlMWiY-O"
      },
      "outputs": [],
      "source": [
        "!pip install kaggle"
      ]
    },
    {
      "cell_type": "code",
      "execution_count": null,
      "metadata": {
        "id": "S3WeSYtqiius"
      },
      "outputs": [],
      "source": [
        "!mkdir -p ~/.kaggle\n",
        "!mv kaggle.json ~/.kaggle/\n",
        "!chmod 600 ~/.kaggle/kaggle.json"
      ]
    },
    {
      "cell_type": "code",
      "execution_count": null,
      "metadata": {
        "collapsed": true,
        "id": "M7y6L_MSilSu"
      },
      "outputs": [],
      "source": [
        "!kaggle datasets list || echo \"Kaggle API setup failed. Check kaggle.json.\""
      ]
    },
    {
      "cell_type": "code",
      "execution_count": null,
      "metadata": {
        "id": "uJul_ewNjBYH"
      },
      "outputs": [],
      "source": [
        "os.makedirs('/content/data/chest_xray', exist_ok=True)"
      ]
    },
    {
      "cell_type": "markdown",
      "metadata": {
        "id": "XoKM5_NqRaMf"
      },
      "source": [
        "Importing(Downloading) the medical dataset from kaggle"
      ]
    },
    {
      "cell_type": "code",
      "execution_count": null,
      "metadata": {
        "id": "YCQ_7o4giolQ"
      },
      "outputs": [],
      "source": [
        "!kaggle datasets download -d paultimothymooney/chest-xray-pneumonia\n",
        "!unzip -q chest-xray-pneumonia.zip -d /content/data/chest_xray/"
      ]
    },
    {
      "cell_type": "code",
      "execution_count": null,
      "metadata": {
        "id": "s9hQEGa3ithi"
      },
      "outputs": [],
      "source": [
        "from torchvision.datasets import CIFAR10\n",
        "cifar10_dataset = CIFAR10(root='/content/data/cifar10', train=True, download=True)"
      ]
    },
    {
      "cell_type": "code",
      "execution_count": null,
      "metadata": {
        "id": "cL2DtQ8Hjc17"
      },
      "outputs": [],
      "source": [
        "os.makedirs('/content/data/train/medical', exist_ok=True)\n",
        "os.makedirs('/content/data/train/non-medical', exist_ok=True)"
      ]
    },
    {
      "cell_type": "code",
      "execution_count": null,
      "metadata": {
        "id": "sRH29wK6jpQC"
      },
      "outputs": [],
      "source": [
        "!mv /content/data/chest_xray/chest_xray/train/NORMAL/* /content/data/train/medical/ 2>/dev/null\n",
        "!mv /content/data/chest_xray/chest_xray/train/PNEUMONIA/* /content/data/train/medical/ 2>/dev/null\n"
      ]
    },
    {
      "cell_type": "code",
      "execution_count": null,
      "metadata": {
        "id": "1Xen4Xz-jtLw"
      },
      "outputs": [],
      "source": [
        "for i, (image, _) in enumerate(cifar10_dataset):\n",
        "    image.save(f'/content/data/train/non-medical/image_{i}.jpg')"
      ]
    },
    {
      "cell_type": "code",
      "execution_count": null,
      "metadata": {
        "id": "VmeFU02Wj2mc"
      },
      "outputs": [],
      "source": [
        "!ls /content/data/train/medical | wc -l  # Count medical images\n",
        "!ls /content/data/train/non-medical | wc -l  # Count non-medical images"
      ]
    },
    {
      "cell_type": "markdown",
      "metadata": {
        "id": "KClq9GKgRzzi"
      },
      "source": [
        "It resizes images to a uniform 224x224 resolution, converts them to PyTorch tensors, and normalizes pixel values using a mean and standard deviation of 0.485 and 0.229, respectively"
      ]
    },
    {
      "cell_type": "code",
      "execution_count": null,
      "metadata": {
        "id": "yV5JC9TBj77o"
      },
      "outputs": [],
      "source": [
        "transform = transforms.Compose([\n",
        "    transforms.Resize((224, 224)),\n",
        "    transforms.ToTensor(),\n",
        "    transforms.Normalize(mean=[0.485, 0.485, 0.485], std=[0.229, 0.229, 0.229])\n",
        "])"
      ]
    },
    {
      "cell_type": "code",
      "execution_count": null,
      "metadata": {
        "id": "HKj0N3MTj_FI"
      },
      "outputs": [],
      "source": [
        "try:\n",
        "    train_dataset = datasets.ImageFolder(root=\"/content/data/train\", transform=transform)\n",
        "    train_loader = DataLoader(train_dataset, batch_size=32, shuffle=True)\n",
        "    print(f\"Dataset loaded with classes: {train_dataset.classes}\")\n",
        "except Exception as e:\n",
        "    print(f\"Error loading dataset: {e}\")\n",
        "    exit()"
      ]
    },
    {
      "cell_type": "markdown",
      "metadata": {
        "id": "-5xl6MAqR48H"
      },
      "source": [
        "This code defines a `SimpleCNN` class, a basic Convolutional Neural Network (CNN) for a medical image classifier, built using PyTorch's `nn.Module`. In the `__init__` method, it initializes a convolutional layer (`conv1`) that takes 3-channel input images (e.g., RGB medical images), applies 16 filters of size 3x3 with padding, followed by a max-pooling layer (`pool`) to reduce spatial dimensions by half, and a fully connected layer (`fc1`) that outputs scores for two classes (e.g., medical vs. non-medical or disease vs. no disease). The `forward` method processes input images through convolution, ReLU activation, pooling, flattening, and the final linear layer to produce classification outputs, suitable for binary medical image classification tasks like detecting abnormalities in X-rays or MRIs."
      ]
    },
    {
      "cell_type": "code",
      "execution_count": null,
      "metadata": {
        "id": "aE65or6WkBoh"
      },
      "outputs": [],
      "source": [
        "class SimpleCNN(nn.Module):\n",
        "    def __init__(self):\n",
        "        super(SimpleCNN, self).__init__()\n",
        "        self.conv1 = nn.Conv2d(3, 16, 3, padding=1)\n",
        "        self.pool = nn.MaxPool2d(2, 2)\n",
        "        self.fc1 = nn.Linear(16 * 112 * 112, 2)  # 2 classes: medical, non-medical\n",
        "    def forward(self, x):\n",
        "        x = self.pool(torch.relu(self.conv1(x)))\n",
        "        x = x.view(-1, 16 * 112 * 112)\n",
        "        x = self.fc1(x)\n",
        "        return x"
      ]
    },
    {
      "cell_type": "code",
      "execution_count": null,
      "metadata": {
        "id": "k1JI6Xk4kEOJ"
      },
      "outputs": [],
      "source": [
        "model = SimpleCNN().to(device)\n",
        "criterion = nn.CrossEntropyLoss()\n",
        "optimizer = torch.optim.Adam(model.parameters(), lr=0.001)"
      ]
    },
    {
      "cell_type": "markdown",
      "metadata": {
        "id": "g-VmkNrbR-Ee"
      },
      "source": [
        "This code snippet implements the training loop for the `SimpleCNN` medical image classifier over 5 epochs. In each epoch, it sets the model to training mode, iterates through batches of images and labels from `train_loader`, moves data to the specified device (GPU/CPU), computes the forward pass, calculates the loss using a predefined `criterion` (e.g., cross-entropy loss), backpropagates the gradients, and updates the model parameters with the `optimizer`. The running loss is accumulated and averaged over the number of batches, printing the average loss per epoch to monitor training progress for classifying medical images, such as identifying diseases in X-rays or MRIs."
      ]
    },
    {
      "cell_type": "code",
      "execution_count": null,
      "metadata": {
        "colab": {
          "background_save": true,
          "base_uri": "https://localhost:8080/"
        },
        "id": "7xWVCSsjkGjq",
        "outputId": "839fdef1-3023-432a-900e-1a398b6823e1"
      },
      "outputs": [
        {
          "name": "stdout",
          "output_type": "stream",
          "text": [
            "Epoch [1/5], Loss: 0.0781\n",
            "Epoch [2/5], Loss: 0.0313\n",
            "Epoch [3/5], Loss: 0.0621\n",
            "Epoch [4/5], Loss: 0.0338\n",
            "Epoch [5/5], Loss: 0.0388\n"
          ]
        }
      ],
      "source": [
        "num_epochs = 5\n",
        "for epoch in range(num_epochs):\n",
        "    model.train()\n",
        "    running_loss = 0.0\n",
        "    for images, labels in train_loader:\n",
        "        images, labels = images.to(device), labels.to(device)\n",
        "        optimizer.zero_grad()\n",
        "        outputs = model(images)\n",
        "        loss = criterion(outputs, labels)\n",
        "        loss.backward()\n",
        "        optimizer.step()\n",
        "        running_loss += loss.item()\n",
        "    print(f\"Epoch [{epoch+1}/{num_epochs}], Loss: {running_loss/len(train_loader):.4f}\")"
      ]
    },
    {
      "cell_type": "code",
      "execution_count": 1,
      "metadata": {
        "colab": {
          "base_uri": "https://localhost:8080/",
          "height": 158
        },
        "id": "S3Z8MQzhkJf5",
        "outputId": "fb79cb4c-d7ea-4e46-e26f-1857a385f8a8"
      },
      "outputs": [
        {
          "output_type": "error",
          "ename": "NameError",
          "evalue": "name 'torch' is not defined",
          "traceback": [
            "\u001b[0;31m---------------------------------------------------------------------------\u001b[0m",
            "\u001b[0;31mNameError\u001b[0m                                 Traceback (most recent call last)",
            "\u001b[0;32m/tmp/ipython-input-1414010480.py\u001b[0m in \u001b[0;36m<cell line: 0>\u001b[0;34m()\u001b[0m\n\u001b[0;32m----> 1\u001b[0;31m \u001b[0mtorch\u001b[0m\u001b[0;34m.\u001b[0m\u001b[0msave\u001b[0m\u001b[0;34m(\u001b[0m\u001b[0mmodel\u001b[0m\u001b[0;34m.\u001b[0m\u001b[0mstate_dict\u001b[0m\u001b[0;34m(\u001b[0m\u001b[0;34m)\u001b[0m\u001b[0;34m,\u001b[0m \u001b[0;34m'medical_non_medical_model.pth'\u001b[0m\u001b[0;34m)\u001b[0m\u001b[0;34m\u001b[0m\u001b[0;34m\u001b[0m\u001b[0m\n\u001b[0m\u001b[1;32m      2\u001b[0m \u001b[0mprint\u001b[0m\u001b[0;34m(\u001b[0m\u001b[0;34m\"Model saved as medical_non_medical_model.pth\"\u001b[0m\u001b[0;34m)\u001b[0m\u001b[0;34m\u001b[0m\u001b[0;34m\u001b[0m\u001b[0m\n",
            "\u001b[0;31mNameError\u001b[0m: name 'torch' is not defined"
          ]
        }
      ],
      "source": [
        "torch.save(model.state_dict(), 'medical_non_medical_model.pth')\n",
        "print(\"Model saved as medical_non_medical_model.pth\")"
      ]
    },
    {
      "cell_type": "code",
      "execution_count": null,
      "metadata": {
        "id": "LzGa5hdC6dwE"
      },
      "outputs": [],
      "source": [
        "from torchvision import datasets, transforms\n",
        "from torch.utils.data import DataLoader\n",
        "\n",
        "transform = transforms.Compose([\n",
        "    transforms.Resize((128, 128)),\n",
        "    transforms.ToTensor()\n",
        "])\n",
        "\n",
        "test_dataset = datasets.ImageFolder(\"/content/data/train\", transform=transform)\n",
        "test_loader = DataLoader(test_dataset, batch_size=32, shuffle=False)\n"
      ]
    },
    {
      "cell_type": "code",
      "execution_count": null,
      "metadata": {
        "id": "VmFhawdx4KwO"
      },
      "outputs": [],
      "source": [
        "def download_images_from_url(url, save_dir=\"web_images\"):\n",
        "    if not os.path.exists(save_dir):\n",
        "        os.makedirs(save_dir)\n",
        "\n",
        "    headers = {'User-Agent': 'Mozilla/5.0'}\n",
        "    try:\n",
        "        response = requests.get(url, headers=headers, timeout=10)\n",
        "        response.raise_for_status()\n",
        "        soup = BeautifulSoup(response.text, 'html.parser')\n",
        "    except requests.RequestException as e:\n",
        "        print(f\"Error fetching webpage {url}: {e}\")\n",
        "        return []\n",
        "\n",
        "    img_urls = []\n",
        "    img_tags = soup.find_all('img')\n",
        "    for img in img_tags:\n",
        "        src = img.get('src')\n",
        "        if src and (src.endswith('.jpg') or src.endswith('.jpeg') or src.endswith('.png')):\n",
        "            if not src.startswith('http'):\n",
        "                src = urllib.parse.urljoin(url, src)\n",
        "            img_urls.append(src)\n",
        "\n",
        "    downloaded_paths = []\n",
        "    for i, img_url in enumerate(img_urls):\n",
        "        try:\n",
        "            img_name = os.path.join(save_dir, f'image_{i}.jpg')\n",
        "            urllib.request.urlretrieve(img_url, img_name)\n",
        "            downloaded_paths.append((img_name, img_url))  # Store path and URL\n",
        "            print(f\"Downloaded: {img_name}\")\n",
        "        except Exception as e:\n",
        "            print(f\"Failed to download {img_url}: {e}\")\n",
        "\n",
        "    return downloaded_paths"
      ]
    },
    {
      "cell_type": "code",
      "execution_count": null,
      "metadata": {
        "id": "A6bhqPM74Qbn"
      },
      "outputs": [],
      "source": [
        "def predict_image(image_path, model, transform, device):\n",
        "    try:\n",
        "        image = Image.open(image_path).convert('RGB')\n",
        "        image = transform(image).unsqueeze(0).to(device)\n",
        "        with torch.no_grad():\n",
        "            output = model(image)\n",
        "            probabilities = torch.softmax(output, dim=1)\n",
        "            _, predicted = torch.max(output, 1)\n",
        "            class_names = ['medical', 'non-medical']\n",
        "            predicted_class = class_names[predicted.item()]\n",
        "            confidence = probabilities[0][predicted.item()].item()\n",
        "        return predicted_class, confidence\n",
        "    except Exception as e:\n",
        "        return None, f\"Error processing {image_path}: {e}\""
      ]
    },
    {
      "cell_type": "code",
      "execution_count": null,
      "metadata": {
        "colab": {
          "base_uri": "https://localhost:8080/"
        },
        "id": "L_u6pL-k4U4s",
        "outputId": "2151029a-6c2b-43f5-fd6b-a73616a7386f"
      },
      "outputs": [
        {
          "data": {
            "text/plain": [
              "SimpleCNN(\n",
              "  (conv1): Conv2d(3, 16, kernel_size=(3, 3), stride=(1, 1), padding=(1, 1))\n",
              "  (pool): MaxPool2d(kernel_size=2, stride=2, padding=0, dilation=1, ceil_mode=False)\n",
              "  (fc1): Linear(in_features=200704, out_features=2, bias=True)\n",
              ")"
            ]
          },
          "execution_count": 57,
          "metadata": {},
          "output_type": "execute_result"
        }
      ],
      "source": [
        "model.load_state_dict(torch.load('medical_non_medical_model.pth', map_location=device))\n",
        "model.eval()"
      ]
    },
    {
      "cell_type": "markdown",
      "metadata": {
        "id": "Mn7DPgsmSHaw"
      },
      "source": [
        "The download_images_from_url function is designed to scrape and download images from a specified webpage, which can be used to collect medical images (e.g., X-rays, MRIs) for a CNN-based medical classifier. It creates a directory (save_dir, defaulting to \"web_images\")"
      ]
    },
    {
      "cell_type": "code",
      "execution_count": null,
      "metadata": {
        "colab": {
          "base_uri": "https://localhost:8080/"
        },
        "collapsed": true,
        "id": "rPDBQ5g14Y76",
        "outputId": "3e569543-4272-4e41-9680-85e2a395e7f8"
      },
      "outputs": [
        {
          "name": "stdout",
          "output_type": "stream",
          "text": [
            "Downloaded: web_images/image_0.jpg\n",
            "Downloaded: web_images/image_1.jpg\n",
            "Downloaded: web_images/image_2.jpg\n",
            "Downloaded: web_images/image_3.jpg\n",
            "Downloaded: web_images/image_4.jpg\n",
            "Downloaded: web_images/image_5.jpg\n",
            "Downloaded: web_images/image_6.jpg\n",
            "Downloaded: web_images/image_7.jpg\n",
            "Downloaded: web_images/image_8.jpg\n",
            "Downloaded: web_images/image_9.jpg\n",
            "Downloaded: web_images/image_10.jpg\n",
            "Downloaded: web_images/image_11.jpg\n",
            "Downloaded: web_images/image_12.jpg\n",
            "Downloaded: web_images/image_13.jpg\n",
            "Downloaded: web_images/image_14.jpg\n",
            "Downloaded: web_images/image_15.jpg\n",
            "Downloaded: web_images/image_16.jpg\n",
            "Downloaded: web_images/image_17.jpg\n",
            "Downloaded: web_images/image_18.jpg\n",
            "Downloaded: web_images/image_19.jpg\n",
            "Downloaded: web_images/image_20.jpg\n",
            "Downloaded: web_images/image_21.jpg\n",
            "Downloaded: web_images/image_22.jpg\n",
            "Downloaded: web_images/image_23.jpg\n",
            "Downloaded: web_images/image_24.jpg\n",
            "Downloaded: web_images/image_25.jpg\n",
            "Downloaded: web_images/image_26.jpg\n",
            "Downloaded: web_images/image_27.jpg\n",
            "Downloaded: web_images/image_28.jpg\n",
            "Downloaded: web_images/image_29.jpg\n",
            "Downloaded: web_images/image_30.jpg\n",
            "Downloaded: web_images/image_31.jpg\n",
            "Downloaded: web_images/image_32.jpg\n",
            "Downloaded: web_images/image_33.jpg\n",
            "Downloaded: web_images/image_34.jpg\n",
            "Downloaded: web_images/image_35.jpg\n",
            "Downloaded: web_images/image_36.jpg\n",
            "Downloaded: web_images/image_37.jpg\n",
            "Downloaded: web_images/image_38.jpg\n",
            "Downloaded: web_images/image_39.jpg\n",
            "Downloaded: web_images/image_40.jpg\n",
            "Downloaded: web_images/image_41.jpg\n",
            "Downloaded: web_images/image_42.jpg\n",
            "Downloaded: web_images/image_43.jpg\n",
            "Downloaded: web_images/image_44.jpg\n",
            "Downloaded: web_images/image_45.jpg\n",
            "Downloaded: web_images/image_46.jpg\n",
            "Downloaded: web_images/image_47.jpg\n",
            "Downloaded: web_images/image_48.jpg\n",
            "Downloaded: web_images/image_49.jpg\n",
            "Downloaded: web_images/image_50.jpg\n",
            "Downloaded: web_images/image_51.jpg\n",
            "Downloaded: web_images/image_52.jpg\n",
            "Downloaded: web_images/image_53.jpg\n",
            "Downloaded: web_images/image_54.jpg\n",
            "Downloaded: web_images/image_55.jpg\n",
            "Downloaded: web_images/image_56.jpg\n",
            "Downloaded: web_images/image_57.jpg\n",
            "Downloaded: web_images/image_58.jpg\n",
            "Downloaded: web_images/image_59.jpg\n",
            "Downloaded: web_images/image_60.jpg\n",
            "Downloaded: web_images/image_61.jpg\n",
            "Downloaded: web_images/image_62.jpg\n",
            "Downloaded: web_images/image_63.jpg\n",
            "Downloaded: web_images/image_64.jpg\n",
            "Downloaded: web_images/image_65.jpg\n",
            "Downloaded: web_images/image_66.jpg\n",
            "Downloaded: web_images/image_67.jpg\n",
            "Downloaded: web_images/image_68.jpg\n",
            "Downloaded: web_images/image_69.jpg\n",
            "Downloaded: web_images/image_70.jpg\n",
            "Downloaded: web_images/image_71.jpg\n",
            "Downloaded: web_images/image_72.jpg\n",
            "Downloaded: web_images/image_73.jpg\n",
            "Downloaded: web_images/image_74.jpg\n",
            "Downloaded: web_images/image_75.jpg\n",
            "Downloaded: web_images/image_76.jpg\n",
            "Downloaded: web_images/image_77.jpg\n",
            "Downloaded: web_images/image_78.jpg\n",
            "Downloaded: web_images/image_79.jpg\n",
            "Downloaded: web_images/image_80.jpg\n",
            "Downloaded: web_images/image_81.jpg\n",
            "Downloaded: web_images/image_82.jpg\n",
            "Downloaded: web_images/image_83.jpg\n",
            "Downloaded: web_images/image_84.jpg\n",
            "Downloaded: web_images/image_85.jpg\n",
            "Downloaded: web_images/image_86.jpg\n",
            "Downloaded: web_images/image_87.jpg\n",
            "Downloaded: web_images/image_88.jpg\n",
            "Downloaded: web_images/image_89.jpg\n",
            "Downloaded: web_images/image_90.jpg\n",
            "Downloaded: web_images/image_91.jpg\n",
            "Downloaded: web_images/image_92.jpg\n",
            "Downloaded: web_images/image_93.jpg\n",
            "Downloaded: web_images/image_94.jpg\n",
            "Downloaded: web_images/image_95.jpg\n",
            "Downloaded: web_images/image_96.jpg\n",
            "Downloaded: web_images/image_97.jpg\n",
            "Downloaded: web_images/image_98.jpg\n",
            "Downloaded: web_images/image_99.jpg\n",
            "Downloaded: web_images/image_100.jpg\n",
            "Downloaded: web_images/image_101.jpg\n",
            "Downloaded: web_images/image_102.jpg\n",
            "Downloaded: web_images/image_103.jpg\n",
            "Downloaded: web_images/image_104.jpg\n",
            "Downloaded: web_images/image_105.jpg\n",
            "Downloaded: web_images/image_106.jpg\n",
            "Downloaded: web_images/image_107.jpg\n",
            "Downloaded: web_images/image_108.jpg\n",
            "Downloaded: web_images/image_109.jpg\n",
            "Downloaded: web_images/image_110.jpg\n",
            "Downloaded: web_images/image_111.jpg\n",
            "Downloaded: web_images/image_112.jpg\n",
            "Downloaded: web_images/image_113.jpg\n",
            "Downloaded: web_images/image_114.jpg\n",
            "Downloaded: web_images/image_115.jpg\n",
            "Downloaded: web_images/image_116.jpg\n",
            "Downloaded: web_images/image_117.jpg\n",
            "Downloaded: web_images/image_118.jpg\n",
            "Downloaded: web_images/image_119.jpg\n",
            "Downloaded: web_images/image_120.jpg\n",
            "Downloaded: web_images/image_121.jpg\n",
            "Downloaded: web_images/image_122.jpg\n"
          ]
        }
      ],
      "source": [
        "url = \"https://en.wikipedia.org/wiki/Sachin_Tendulkar\"\n",
        "image_paths_urls = download_images_from_url(url)"
      ]
    },
    {
      "cell_type": "code",
      "execution_count": null,
      "metadata": {
        "colab": {
          "base_uri": "https://localhost:8080/"
        },
        "collapsed": true,
        "id": "Ugtv3jes4my6",
        "outputId": "2dbff692-dbe2-4648-8d40-e081a676e627"
      },
      "outputs": [
        {
          "name": "stdout",
          "output_type": "stream",
          "text": [
            "Image: web_images/image_0.jpg, URL: https://en.wikipedia.org/static/images/icons/wikipedia.png, Error: Error processing web_images/image_0.jpg: shape '[-1, 200704]' is invalid for input of size 65536\n",
            "Image: web_images/image_1.jpg, URL: https://upload.wikimedia.org/wikipedia/en/thumb/1/1b/Semi-protection-shackle.svg/20px-Semi-protection-shackle.svg.png, Error: Error processing web_images/image_1.jpg: shape '[-1, 200704]' is invalid for input of size 65536\n",
            "Image: web_images/image_2.jpg, URL: https://upload.wikimedia.org/wikipedia/commons/thumb/3/3e/The_cricket_legend_Sachin_Tendulkar_at_the_Oval_Maidan_in_Mumbai_During_the_Duke_and_Duchess_of_Cambridge_Visit%2826271019082%29.jpg/250px-The_cricket_legend_Sachin_Tendulkar_at_the_Oval_Maidan_in_Mumbai_During_the_Duke_and_Duchess_of_Cambridge_Visit%2826271019082%29.jpg, Error: Error processing web_images/image_2.jpg: shape '[-1, 200704]' is invalid for input of size 65536\n",
            "Image: web_images/image_3.jpg, URL: https://upload.wikimedia.org/wikipedia/en/thumb/4/41/Flag_of_India.svg/40px-Flag_of_India.svg.png, Error: Error processing web_images/image_3.jpg: shape '[-1, 200704]' is invalid for input of size 65536\n",
            "Image: web_images/image_4.jpg, URL: https://upload.wikimedia.org/wikipedia/commons/thumb/1/1d/Sachin_Tendulkar_Signature.svg/250px-Sachin_Tendulkar_Signature.svg.png, Error: Error processing web_images/image_4.jpg: shape '[-1, 200704]' is invalid for input of size 65536\n",
            "Image: web_images/image_5.jpg, URL: https://upload.wikimedia.org/wikipedia/en/thumb/4/41/Flag_of_India.svg/40px-Flag_of_India.svg.png, Error: Error processing web_images/image_5.jpg: shape '[-1, 200704]' is invalid for input of size 65536\n",
            "Image: web_images/image_6.jpg, URL: https://upload.wikimedia.org/wikipedia/commons/thumb/8/8e/Air_Force_Ensign_of_India.svg/40px-Air_Force_Ensign_of_India.svg.png, Error: Error processing web_images/image_6.jpg: shape '[-1, 200704]' is invalid for input of size 65536\n",
            "Image: web_images/image_7.jpg, URL: https://upload.wikimedia.org/wikipedia/commons/thumb/8/81/Indian_IAF_OF-5.svg/20px-Indian_IAF_OF-5.svg.png, Error: Error processing web_images/image_7.jpg: shape '[-1, 200704]' is invalid for input of size 65536\n",
            "Image: web_images/image_8.jpg, URL: https://upload.wikimedia.org/wikipedia/commons/thumb/b/b8/Sachin-Tendulkar_%28cropped%29.jpg/120px-Sachin-Tendulkar_%28cropped%29.jpg, Error: Error processing web_images/image_8.jpg: shape '[-1, 200704]' is invalid for input of size 65536\n",
            "Image: web_images/image_9.jpg, URL: https://upload.wikimedia.org/wikipedia/commons/thumb/6/65/Sachin_at_the_other_end.jpg/250px-Sachin_at_the_other_end.jpg, Error: Error processing web_images/image_9.jpg: shape '[-1, 200704]' is invalid for input of size 65536\n",
            "Image: web_images/image_10.jpg, URL: https://upload.wikimedia.org/wikipedia/commons/thumb/6/6e/Tendulkar_closup.jpg/250px-Tendulkar_closup.jpg, Error: Error processing web_images/image_10.jpg: shape '[-1, 200704]' is invalid for input of size 65536\n",
            "Image: web_images/image_11.jpg, URL: https://upload.wikimedia.org/wikipedia/commons/thumb/5/5b/Tendulkar_goes_to_14%2C000_Test_runs.jpg/960px-Tendulkar_goes_to_14%2C000_Test_runs.jpg, Error: Error processing web_images/image_11.jpg: shape '[-1, 200704]' is invalid for input of size 65536\n",
            "Image: web_images/image_12.jpg, URL: https://upload.wikimedia.org/wikipedia/commons/thumb/0/03/Historic_Moment_during_2011_Cricket_World_Cup.jpg/250px-Historic_Moment_during_2011_Cricket_World_Cup.jpg, Error: Error processing web_images/image_12.jpg: shape '[-1, 200704]' is invalid for input of size 65536\n",
            "Image: web_images/image_13.jpg, URL: https://upload.wikimedia.org/wikipedia/commons/thumb/2/28/199Sachin.jpg/250px-199Sachin.jpg, Error: Error processing web_images/image_13.jpg: shape '[-1, 200704]' is invalid for input of size 65536\n",
            "Image: web_images/image_14.jpg, URL: https://upload.wikimedia.org/wikipedia/commons/thumb/7/72/Master_Blaster_at_work.jpg/250px-Master_Blaster_at_work.jpg, Error: Error processing web_images/image_14.jpg: shape '[-1, 200704]' is invalid for input of size 65536\n",
            "Image: web_images/image_15.jpg, URL: https://upload.wikimedia.org/wikipedia/commons/thumb/9/99/Sachin_Ramesh_Tendulkar_Wax_Statue_in_Madame_Tussauds_London.jpg/250px-Sachin_Ramesh_Tendulkar_Wax_Statue_in_Madame_Tussauds_London.jpg, Error: Error processing web_images/image_15.jpg: shape '[-1, 200704]' is invalid for input of size 65536\n",
            "Image: web_images/image_16.jpg, URL: https://upload.wikimedia.org/wikipedia/commons/thumb/d/db/The_President%2C_Smt._Pratibha_Devisingh_Patil_presenting_the_Padma_Vibhushan_to_Shri_Sachin_Ramesh_Tendulkar%2C_famous_cricketer%2C_at_an_Investiture-I_Ceremony%2C_at_Rashtrapati_Bhavan%2C_in_New_Delhi_on_May_05%2C_2008.jpg/250px-thumbnail.jpg, Error: Error processing web_images/image_16.jpg: shape '[-1, 200704]' is invalid for input of size 65536\n",
            "Image: web_images/image_17.jpg, URL: https://upload.wikimedia.org/wikipedia/commons/thumb/2/28/The_President%2C_Shri_Pranab_Mukherjee_presenting_the_Bharat_Ratna_Awards_2014_to_Shri_Sachin_Ramesh_Tendulkar_at_a_Investiture_ceremony_in_New_Delhi_on_February_4%2C_2014..jpg/250px-thumbnail.jpg, Error: Error processing web_images/image_17.jpg: shape '[-1, 200704]' is invalid for input of size 65536\n",
            "Image: web_images/image_18.jpg, URL: https://upload.wikimedia.org/wikipedia/commons/thumb/3/33/Padma_Shri_Ribbon.svg/60px-Padma_Shri_Ribbon.svg.png, Error: Error processing web_images/image_18.jpg: shape '[-1, 200704]' is invalid for input of size 65536\n",
            "Image: web_images/image_19.jpg, URL: https://upload.wikimedia.org/wikipedia/commons/thumb/a/a8/Padma_Vibhushan_Ribbon.svg/60px-Padma_Vibhushan_Ribbon.svg.png, Error: Error processing web_images/image_19.jpg: shape '[-1, 200704]' is invalid for input of size 65536\n",
            "Image: web_images/image_20.jpg, URL: https://upload.wikimedia.org/wikipedia/commons/thumb/0/00/Flag_of_Group_Captain_%28India%29.svg/60px-Flag_of_Group_Captain_%28India%29.svg.png, Error: Error processing web_images/image_20.jpg: shape '[-1, 200704]' is invalid for input of size 65536\n",
            "Image: web_images/image_21.jpg, URL: https://upload.wikimedia.org/wikipedia/commons/thumb/e/e2/IND_Bharat_Ratna_BAR.png/60px-IND_Bharat_Ratna_BAR.png, Error: Error processing web_images/image_21.jpg: shape '[-1, 200704]' is invalid for input of size 65536\n",
            "Image: web_images/image_22.jpg, URL: https://upload.wikimedia.org/wikipedia/commons/thumb/4/41/AUS_Order_of_Australia_%28civil%29_BAR.svg/60px-AUS_Order_of_Australia_%28civil%29_BAR.svg.png, Error: Error processing web_images/image_22.jpg: shape '[-1, 200704]' is invalid for input of size 65536\n",
            "Image: web_images/image_23.jpg, URL: https://upload.wikimedia.org/wikipedia/commons/thumb/9/98/Sachin_Tendulkar_2013_stamp_of_India_2.jpg/250px-Sachin_Tendulkar_2013_stamp_of_India_2.jpg, Error: Error processing web_images/image_23.jpg: shape '[-1, 200704]' is invalid for input of size 65536\n",
            "Image: web_images/image_24.jpg, URL: https://upload.wikimedia.org/wikipedia/commons/thumb/6/6c/Sachin_Tendulkar_2013_stamp_of_India.jpg/250px-Sachin_Tendulkar_2013_stamp_of_India.jpg, Error: Error processing web_images/image_24.jpg: shape '[-1, 200704]' is invalid for input of size 65536\n",
            "Image: web_images/image_25.jpg, URL: https://upload.wikimedia.org/wikipedia/commons/thumb/8/88/Flag_of_Australia_%28converted%29.svg/40px-Flag_of_Australia_%28converted%29.svg.png, Error: Error processing web_images/image_25.jpg: shape '[-1, 200704]' is invalid for input of size 65536\n",
            "Image: web_images/image_26.jpg, URL: https://upload.wikimedia.org/wikipedia/commons/thumb/1/11/Flag_of_Sri_Lanka.svg/40px-Flag_of_Sri_Lanka.svg.png, Error: Error processing web_images/image_26.jpg: shape '[-1, 200704]' is invalid for input of size 65536\n",
            "Image: web_images/image_27.jpg, URL: https://upload.wikimedia.org/wikipedia/commons/thumb/a/af/Flag_of_South_Africa.svg/40px-Flag_of_South_Africa.svg.png, Error: Error processing web_images/image_27.jpg: shape '[-1, 200704]' is invalid for input of size 65536\n",
            "Image: web_images/image_28.jpg, URL: https://upload.wikimedia.org/wikipedia/en/thumb/b/be/Flag_of_England.svg/40px-Flag_of_England.svg.png, Error: Error processing web_images/image_28.jpg: shape '[-1, 200704]' is invalid for input of size 65536\n",
            "Image: web_images/image_29.jpg, URL: https://upload.wikimedia.org/wikipedia/commons/thumb/3/3e/Flag_of_New_Zealand.svg/40px-Flag_of_New_Zealand.svg.png, Error: Error processing web_images/image_29.jpg: shape '[-1, 200704]' is invalid for input of size 65536\n",
            "Image: web_images/image_30.jpg, URL: https://upload.wikimedia.org/wikipedia/commons/thumb/1/18/WestIndiesCricketFlagPre1999.svg/40px-WestIndiesCricketFlagPre1999.svg.png, Error: Error processing web_images/image_30.jpg: shape '[-1, 200704]' is invalid for input of size 65536\n",
            "Image: web_images/image_31.jpg, URL: https://upload.wikimedia.org/wikipedia/commons/thumb/6/6a/Flag_of_Zimbabwe.svg/40px-Flag_of_Zimbabwe.svg.png, Error: Error processing web_images/image_31.jpg: shape '[-1, 200704]' is invalid for input of size 65536\n",
            "Image: web_images/image_32.jpg, URL: https://upload.wikimedia.org/wikipedia/commons/thumb/3/32/Flag_of_Pakistan.svg/40px-Flag_of_Pakistan.svg.png, Error: Error processing web_images/image_32.jpg: shape '[-1, 200704]' is invalid for input of size 65536\n",
            "Image: web_images/image_33.jpg, URL: https://upload.wikimedia.org/wikipedia/commons/thumb/f/f9/Flag_of_Bangladesh.svg/40px-Flag_of_Bangladesh.svg.png, Error: Error processing web_images/image_33.jpg: shape '[-1, 200704]' is invalid for input of size 65536\n",
            "Image: web_images/image_34.jpg, URL: https://upload.wikimedia.org/wikipedia/commons/thumb/4/49/Flag_of_Kenya.svg/40px-Flag_of_Kenya.svg.png, Error: Error processing web_images/image_34.jpg: shape '[-1, 200704]' is invalid for input of size 65536\n",
            "Image: web_images/image_35.jpg, URL: https://upload.wikimedia.org/wikipedia/commons/thumb/0/00/Flag_of_Namibia.svg/40px-Flag_of_Namibia.svg.png, Error: Error processing web_images/image_35.jpg: shape '[-1, 200704]' is invalid for input of size 65536\n",
            "Image: web_images/image_36.jpg, URL: https://upload.wikimedia.org/wikipedia/commons/thumb/5/57/Preferences-desktop-accessibility-alert.svg/45px-Preferences-desktop-accessibility-alert.svg.png, Error: Error processing web_images/image_36.jpg: shape '[-1, 200704]' is invalid for input of size 65536\n",
            "Image: web_images/image_37.jpg, URL: https://upload.wikimedia.org/wikipedia/commons/thumb/3/33/Sachin_Tendulkar_graph.svg/960px-Sachin_Tendulkar_graph.svg.png, Error: Error processing web_images/image_37.jpg: shape '[-1, 200704]' is invalid for input of size 65536\n",
            "Image: web_images/image_38.jpg, URL: https://upload.wikimedia.org/wikipedia/commons/thumb/9/96/Anjali-Sachin.jpg/250px-Anjali-Sachin.jpg, Error: Error processing web_images/image_38.jpg: shape '[-1, 200704]' is invalid for input of size 65536\n",
            "Image: web_images/image_39.jpg, URL: https://upload.wikimedia.org/wikipedia/commons/thumb/b/bd/Ambox_current_red_Asia_Australia.svg/60px-Ambox_current_red_Asia_Australia.svg.png, Error: Error processing web_images/image_39.jpg: shape '[-1, 200704]' is invalid for input of size 65536\n",
            "Image: web_images/image_40.jpg, URL: https://upload.wikimedia.org/wikipedia/en/thumb/0/06/Wiktionary-logo-v2.svg/40px-Wiktionary-logo-v2.svg.png, Error: Error processing web_images/image_40.jpg: shape '[-1, 200704]' is invalid for input of size 65536\n",
            "Image: web_images/image_41.jpg, URL: https://upload.wikimedia.org/wikipedia/en/thumb/4/4a/Commons-logo.svg/20px-Commons-logo.svg.png, Error: Error processing web_images/image_41.jpg: shape '[-1, 200704]' is invalid for input of size 65536\n",
            "Image: web_images/image_42.jpg, URL: https://upload.wikimedia.org/wikipedia/commons/thumb/2/24/Wikinews-logo.svg/40px-Wikinews-logo.svg.png, Error: Error processing web_images/image_42.jpg: shape '[-1, 200704]' is invalid for input of size 65536\n",
            "Image: web_images/image_43.jpg, URL: https://upload.wikimedia.org/wikipedia/commons/thumb/f/fa/Wikiquote-logo.svg/40px-Wikiquote-logo.svg.png, Error: Error processing web_images/image_43.jpg: shape '[-1, 200704]' is invalid for input of size 65536\n",
            "Image: web_images/image_44.jpg, URL: https://upload.wikimedia.org/wikipedia/commons/thumb/4/4c/Wikisource-logo.svg/40px-Wikisource-logo.svg.png, Error: Error processing web_images/image_44.jpg: shape '[-1, 200704]' is invalid for input of size 65536\n",
            "Image: web_images/image_45.jpg, URL: https://upload.wikimedia.org/wikipedia/commons/thumb/f/ff/Wikidata-logo.svg/40px-Wikidata-logo.svg.png, Error: Error processing web_images/image_45.jpg: shape '[-1, 200704]' is invalid for input of size 65536\n",
            "Image: web_images/image_46.jpg, URL: https://upload.wikimedia.org/wikipedia/en/thumb/4/41/Flag_of_India.svg/40px-Flag_of_India.svg.png, Error: Error processing web_images/image_46.jpg: shape '[-1, 200704]' is invalid for input of size 65536\n",
            "Image: web_images/image_47.jpg, URL: https://upload.wikimedia.org/wikipedia/commons/thumb/a/af/Flag_of_South_Africa.svg/40px-Flag_of_South_Africa.svg.png, Error: Error processing web_images/image_47.jpg: shape '[-1, 200704]' is invalid for input of size 65536\n",
            "Image: web_images/image_48.jpg, URL: https://upload.wikimedia.org/wikipedia/en/thumb/b/be/Flag_of_England.svg/40px-Flag_of_England.svg.png, Error: Error processing web_images/image_48.jpg: shape '[-1, 200704]' is invalid for input of size 65536\n",
            "Image: web_images/image_49.jpg, URL: https://upload.wikimedia.org/wikipedia/commons/thumb/8/88/Flag_of_Australia_%28converted%29.svg/40px-Flag_of_Australia_%28converted%29.svg.png, Error: Error processing web_images/image_49.jpg: shape '[-1, 200704]' is invalid for input of size 65536\n",
            "Image: web_images/image_50.jpg, URL: https://upload.wikimedia.org/wikipedia/commons/thumb/8/88/Flag_of_Australia_%28converted%29.svg/40px-Flag_of_Australia_%28converted%29.svg.png, Error: Error processing web_images/image_50.jpg: shape '[-1, 200704]' is invalid for input of size 65536\n",
            "Image: web_images/image_51.jpg, URL: https://upload.wikimedia.org/wikipedia/commons/thumb/1/18/WestIndiesCricketFlagPre1999.svg/40px-WestIndiesCricketFlagPre1999.svg.png, Error: Error processing web_images/image_51.jpg: shape '[-1, 200704]' is invalid for input of size 65536\n",
            "Image: web_images/image_52.jpg, URL: https://upload.wikimedia.org/wikipedia/commons/thumb/8/88/Flag_of_Australia_%28converted%29.svg/40px-Flag_of_Australia_%28converted%29.svg.png, Error: Error processing web_images/image_52.jpg: shape '[-1, 200704]' is invalid for input of size 65536\n",
            "Image: web_images/image_53.jpg, URL: https://upload.wikimedia.org/wikipedia/en/thumb/4/41/Flag_of_India.svg/40px-Flag_of_India.svg.png, Error: Error processing web_images/image_53.jpg: shape '[-1, 200704]' is invalid for input of size 65536\n",
            "Image: web_images/image_54.jpg, URL: https://upload.wikimedia.org/wikipedia/en/thumb/b/be/Flag_of_England.svg/40px-Flag_of_England.svg.png, Error: Error processing web_images/image_54.jpg: shape '[-1, 200704]' is invalid for input of size 65536\n",
            "Image: web_images/image_55.jpg, URL: https://upload.wikimedia.org/wikipedia/commons/thumb/1/11/Flag_of_Sri_Lanka.svg/40px-Flag_of_Sri_Lanka.svg.png, Error: Error processing web_images/image_55.jpg: shape '[-1, 200704]' is invalid for input of size 65536\n",
            "Image: web_images/image_56.jpg, URL: https://upload.wikimedia.org/wikipedia/commons/thumb/8/88/Flag_of_Australia_%28converted%29.svg/40px-Flag_of_Australia_%28converted%29.svg.png, Error: Error processing web_images/image_56.jpg: shape '[-1, 200704]' is invalid for input of size 65536\n",
            "Image: web_images/image_57.jpg, URL: https://upload.wikimedia.org/wikipedia/commons/thumb/8/88/Flag_of_Australia_%28converted%29.svg/40px-Flag_of_Australia_%28converted%29.svg.png, Error: Error processing web_images/image_57.jpg: shape '[-1, 200704]' is invalid for input of size 65536\n",
            "Image: web_images/image_58.jpg, URL: https://upload.wikimedia.org/wikipedia/commons/thumb/8/88/Flag_of_Australia_%28converted%29.svg/40px-Flag_of_Australia_%28converted%29.svg.png, Error: Error processing web_images/image_58.jpg: shape '[-1, 200704]' is invalid for input of size 65536\n",
            "Image: web_images/image_59.jpg, URL: https://upload.wikimedia.org/wikipedia/en/thumb/4/41/Flag_of_India.svg/40px-Flag_of_India.svg.png, Error: Error processing web_images/image_59.jpg: shape '[-1, 200704]' is invalid for input of size 65536\n",
            "Image: web_images/image_60.jpg, URL: https://upload.wikimedia.org/wikipedia/en/thumb/4/41/Flag_of_India.svg/40px-Flag_of_India.svg.png, Error: Error processing web_images/image_60.jpg: shape '[-1, 200704]' is invalid for input of size 65536\n",
            "Image: web_images/image_61.jpg, URL: https://upload.wikimedia.org/wikipedia/en/thumb/4/41/Flag_of_India.svg/40px-Flag_of_India.svg.png, Error: Error processing web_images/image_61.jpg: shape '[-1, 200704]' is invalid for input of size 65536\n",
            "Image: web_images/image_62.jpg, URL: https://upload.wikimedia.org/wikipedia/en/thumb/b/be/Flag_of_England.svg/40px-Flag_of_England.svg.png, Error: Error processing web_images/image_62.jpg: shape '[-1, 200704]' is invalid for input of size 65536\n",
            "Image: web_images/image_63.jpg, URL: https://upload.wikimedia.org/wikipedia/commons/thumb/3/32/Flag_of_Pakistan.svg/40px-Flag_of_Pakistan.svg.png, Error: Error processing web_images/image_63.jpg: shape '[-1, 200704]' is invalid for input of size 65536\n",
            "Image: web_images/image_64.jpg, URL: https://upload.wikimedia.org/wikipedia/commons/thumb/3/32/Flag_of_Pakistan.svg/40px-Flag_of_Pakistan.svg.png, Error: Error processing web_images/image_64.jpg: shape '[-1, 200704]' is invalid for input of size 65536\n",
            "Image: web_images/image_65.jpg, URL: https://upload.wikimedia.org/wikipedia/commons/thumb/8/88/Flag_of_Australia_%28converted%29.svg/40px-Flag_of_Australia_%28converted%29.svg.png, Error: Error processing web_images/image_65.jpg: shape '[-1, 200704]' is invalid for input of size 65536\n",
            "Image: web_images/image_66.jpg, URL: https://upload.wikimedia.org/wikipedia/en/thumb/4/41/Flag_of_India.svg/40px-Flag_of_India.svg.png, Error: Error processing web_images/image_66.jpg: shape '[-1, 200704]' is invalid for input of size 65536\n",
            "Image: web_images/image_67.jpg, URL: https://upload.wikimedia.org/wikipedia/commons/thumb/8/88/Flag_of_Australia_%28converted%29.svg/40px-Flag_of_Australia_%28converted%29.svg.png, Error: Error processing web_images/image_67.jpg: shape '[-1, 200704]' is invalid for input of size 65536\n",
            "Image: web_images/image_68.jpg, URL: https://upload.wikimedia.org/wikipedia/commons/thumb/8/88/Flag_of_Australia_%28converted%29.svg/40px-Flag_of_Australia_%28converted%29.svg.png, Error: Error processing web_images/image_68.jpg: shape '[-1, 200704]' is invalid for input of size 65536\n",
            "Image: web_images/image_69.jpg, URL: https://upload.wikimedia.org/wikipedia/en/thumb/4/41/Flag_of_India.svg/40px-Flag_of_India.svg.png, Error: Error processing web_images/image_69.jpg: shape '[-1, 200704]' is invalid for input of size 65536\n",
            "Image: web_images/image_70.jpg, URL: https://upload.wikimedia.org/wikipedia/commons/thumb/1/18/WestIndiesCricketFlagPre1999.svg/40px-WestIndiesCricketFlagPre1999.svg.png, Error: Error processing web_images/image_70.jpg: shape '[-1, 200704]' is invalid for input of size 65536\n",
            "Image: web_images/image_71.jpg, URL: https://upload.wikimedia.org/wikipedia/commons/thumb/1/18/WestIndiesCricketFlagPre1999.svg/40px-WestIndiesCricketFlagPre1999.svg.png, Error: Error processing web_images/image_71.jpg: shape '[-1, 200704]' is invalid for input of size 65536\n",
            "Image: web_images/image_72.jpg, URL: https://upload.wikimedia.org/wikipedia/commons/thumb/8/88/Flag_of_Australia_%28converted%29.svg/40px-Flag_of_Australia_%28converted%29.svg.png, Error: Error processing web_images/image_72.jpg: shape '[-1, 200704]' is invalid for input of size 65536\n",
            "Image: web_images/image_73.jpg, URL: https://upload.wikimedia.org/wikipedia/commons/thumb/8/88/Flag_of_Australia_%28converted%29.svg/40px-Flag_of_Australia_%28converted%29.svg.png, Error: Error processing web_images/image_73.jpg: shape '[-1, 200704]' is invalid for input of size 65536\n",
            "Image: web_images/image_74.jpg, URL: https://upload.wikimedia.org/wikipedia/commons/thumb/1/18/WestIndiesCricketFlagPre1999.svg/40px-WestIndiesCricketFlagPre1999.svg.png, Error: Error processing web_images/image_74.jpg: shape '[-1, 200704]' is invalid for input of size 65536\n",
            "Image: web_images/image_75.jpg, URL: https://upload.wikimedia.org/wikipedia/en/thumb/4/41/Flag_of_India.svg/40px-Flag_of_India.svg.png, Error: Error processing web_images/image_75.jpg: shape '[-1, 200704]' is invalid for input of size 65536\n",
            "Image: web_images/image_76.jpg, URL: https://upload.wikimedia.org/wikipedia/en/thumb/b/be/Flag_of_England.svg/40px-Flag_of_England.svg.png, Error: Error processing web_images/image_76.jpg: shape '[-1, 200704]' is invalid for input of size 65536\n",
            "Image: web_images/image_77.jpg, URL: https://upload.wikimedia.org/wikipedia/commons/thumb/1/18/WestIndiesCricketFlagPre1999.svg/40px-WestIndiesCricketFlagPre1999.svg.png, Error: Error processing web_images/image_77.jpg: shape '[-1, 200704]' is invalid for input of size 65536\n",
            "Image: web_images/image_78.jpg, URL: https://upload.wikimedia.org/wikipedia/commons/thumb/1/18/WestIndiesCricketFlagPre1999.svg/40px-WestIndiesCricketFlagPre1999.svg.png, Error: Error processing web_images/image_78.jpg: shape '[-1, 200704]' is invalid for input of size 65536\n",
            "Image: web_images/image_79.jpg, URL: https://upload.wikimedia.org/wikipedia/en/thumb/b/be/Flag_of_England.svg/40px-Flag_of_England.svg.png, Error: Error processing web_images/image_79.jpg: shape '[-1, 200704]' is invalid for input of size 65536\n",
            "Image: web_images/image_80.jpg, URL: https://upload.wikimedia.org/wikipedia/en/thumb/4/41/Flag_of_India.svg/40px-Flag_of_India.svg.png, Error: Error processing web_images/image_80.jpg: shape '[-1, 200704]' is invalid for input of size 65536\n",
            "Image: web_images/image_81.jpg, URL: https://upload.wikimedia.org/wikipedia/en/thumb/b/be/Flag_of_England.svg/40px-Flag_of_England.svg.png, Error: Error processing web_images/image_81.jpg: shape '[-1, 200704]' is invalid for input of size 65536\n",
            "Image: web_images/image_82.jpg, URL: https://upload.wikimedia.org/wikipedia/en/thumb/4/41/Flag_of_India.svg/40px-Flag_of_India.svg.png, Error: Error processing web_images/image_82.jpg: shape '[-1, 200704]' is invalid for input of size 65536\n",
            "Image: web_images/image_83.jpg, URL: https://upload.wikimedia.org/wikipedia/commons/thumb/1/18/WestIndiesCricketFlagPre1999.svg/40px-WestIndiesCricketFlagPre1999.svg.png, Error: Error processing web_images/image_83.jpg: shape '[-1, 200704]' is invalid for input of size 65536\n",
            "Image: web_images/image_84.jpg, URL: https://upload.wikimedia.org/wikipedia/en/thumb/e/e2/Symbol_portal_class.svg/20px-Symbol_portal_class.svg.png, Error: Error processing web_images/image_84.jpg: shape '[-1, 200704]' is invalid for input of size 65536\n",
            "Image: web_images/image_85.jpg, URL: https://upload.wikimedia.org/wikipedia/en/thumb/9/96/Symbol_category_class.svg/20px-Symbol_category_class.svg.png, Error: Error processing web_images/image_85.jpg: shape '[-1, 200704]' is invalid for input of size 65536\n",
            "Image: web_images/image_86.jpg, URL: https://upload.wikimedia.org/wikipedia/commons/thumb/3/37/People_icon.svg/20px-People_icon.svg.png, Error: Error processing web_images/image_86.jpg: shape '[-1, 200704]' is invalid for input of size 65536\n",
            "Image: web_images/image_87.jpg, URL: https://upload.wikimedia.org/wikipedia/commons/thumb/8/88/Flag_of_Australia_%28converted%29.svg/40px-Flag_of_Australia_%28converted%29.svg.png, Error: Error processing web_images/image_87.jpg: shape '[-1, 200704]' is invalid for input of size 65536\n",
            "Image: web_images/image_88.jpg, URL: https://upload.wikimedia.org/wikipedia/en/thumb/b/be/Flag_of_England.svg/40px-Flag_of_England.svg.png, Error: Error processing web_images/image_88.jpg: shape '[-1, 200704]' is invalid for input of size 65536\n",
            "Image: web_images/image_89.jpg, URL: https://upload.wikimedia.org/wikipedia/en/thumb/4/41/Flag_of_India.svg/40px-Flag_of_India.svg.png, Error: Error processing web_images/image_89.jpg: shape '[-1, 200704]' is invalid for input of size 65536\n",
            "Image: web_images/image_90.jpg, URL: https://upload.wikimedia.org/wikipedia/commons/thumb/3/3e/Flag_of_New_Zealand.svg/40px-Flag_of_New_Zealand.svg.png, Error: Error processing web_images/image_90.jpg: shape '[-1, 200704]' is invalid for input of size 65536\n",
            "Image: web_images/image_91.jpg, URL: https://upload.wikimedia.org/wikipedia/commons/thumb/3/32/Flag_of_Pakistan.svg/40px-Flag_of_Pakistan.svg.png, Error: Error processing web_images/image_91.jpg: shape '[-1, 200704]' is invalid for input of size 65536\n",
            "Image: web_images/image_92.jpg, URL: https://upload.wikimedia.org/wikipedia/commons/thumb/a/af/Flag_of_South_Africa.svg/40px-Flag_of_South_Africa.svg.png, Error: Error processing web_images/image_92.jpg: shape '[-1, 200704]' is invalid for input of size 65536\n",
            "Image: web_images/image_93.jpg, URL: https://upload.wikimedia.org/wikipedia/commons/thumb/1/11/Flag_of_Sri_Lanka.svg/40px-Flag_of_Sri_Lanka.svg.png, Error: Error processing web_images/image_93.jpg: shape '[-1, 200704]' is invalid for input of size 65536\n",
            "Image: web_images/image_94.jpg, URL: https://upload.wikimedia.org/wikipedia/commons/thumb/1/18/WestIndiesCricketFlagPre1999.svg/40px-WestIndiesCricketFlagPre1999.svg.png, Error: Error processing web_images/image_94.jpg: shape '[-1, 200704]' is invalid for input of size 65536\n",
            "Image: web_images/image_95.jpg, URL: https://upload.wikimedia.org/wikipedia/commons/thumb/6/6a/Flag_of_Zimbabwe.svg/40px-Flag_of_Zimbabwe.svg.png, Error: Error processing web_images/image_95.jpg: shape '[-1, 200704]' is invalid for input of size 65536\n",
            "Image: web_images/image_96.jpg, URL: https://upload.wikimedia.org/wikipedia/commons/thumb/8/88/Flag_of_Australia_%28converted%29.svg/40px-Flag_of_Australia_%28converted%29.svg.png, Error: Error processing web_images/image_96.jpg: shape '[-1, 200704]' is invalid for input of size 65536\n",
            "Image: web_images/image_97.jpg, URL: https://upload.wikimedia.org/wikipedia/en/thumb/b/be/Flag_of_England.svg/40px-Flag_of_England.svg.png, Error: Error processing web_images/image_97.jpg: shape '[-1, 200704]' is invalid for input of size 65536\n",
            "Image: web_images/image_98.jpg, URL: https://upload.wikimedia.org/wikipedia/en/thumb/4/41/Flag_of_India.svg/40px-Flag_of_India.svg.png, Error: Error processing web_images/image_98.jpg: shape '[-1, 200704]' is invalid for input of size 65536\n",
            "Image: web_images/image_99.jpg, URL: https://upload.wikimedia.org/wikipedia/commons/thumb/3/32/Flag_of_Pakistan.svg/40px-Flag_of_Pakistan.svg.png, Error: Error processing web_images/image_99.jpg: shape '[-1, 200704]' is invalid for input of size 65536\n",
            "Image: web_images/image_100.jpg, URL: https://upload.wikimedia.org/wikipedia/commons/thumb/a/af/Flag_of_South_Africa.svg/40px-Flag_of_South_Africa.svg.png, Error: Error processing web_images/image_100.jpg: shape '[-1, 200704]' is invalid for input of size 65536\n",
            "Image: web_images/image_101.jpg, URL: https://upload.wikimedia.org/wikipedia/commons/thumb/1/11/Flag_of_Sri_Lanka.svg/40px-Flag_of_Sri_Lanka.svg.png, Error: Error processing web_images/image_101.jpg: shape '[-1, 200704]' is invalid for input of size 65536\n",
            "Image: web_images/image_102.jpg, URL: https://upload.wikimedia.org/wikipedia/commons/thumb/1/18/WestIndiesCricketFlagPre1999.svg/40px-WestIndiesCricketFlagPre1999.svg.png, Error: Error processing web_images/image_102.jpg: shape '[-1, 200704]' is invalid for input of size 65536\n",
            "Image: web_images/image_103.jpg, URL: https://upload.wikimedia.org/wikipedia/commons/thumb/8/88/Flag_of_Australia_%28converted%29.svg/40px-Flag_of_Australia_%28converted%29.svg.png, Error: Error processing web_images/image_103.jpg: shape '[-1, 200704]' is invalid for input of size 65536\n",
            "Image: web_images/image_104.jpg, URL: https://upload.wikimedia.org/wikipedia/en/thumb/4/41/Flag_of_India.svg/40px-Flag_of_India.svg.png, Error: Error processing web_images/image_104.jpg: shape '[-1, 200704]' is invalid for input of size 65536\n",
            "Image: web_images/image_105.jpg, URL: https://upload.wikimedia.org/wikipedia/commons/thumb/3/32/Flag_of_Pakistan.svg/40px-Flag_of_Pakistan.svg.png, Error: Error processing web_images/image_105.jpg: shape '[-1, 200704]' is invalid for input of size 65536\n",
            "Image: web_images/image_106.jpg, URL: https://upload.wikimedia.org/wikipedia/commons/thumb/a/af/Flag_of_South_Africa.svg/40px-Flag_of_South_Africa.svg.png, Error: Error processing web_images/image_106.jpg: shape '[-1, 200704]' is invalid for input of size 65536\n",
            "Image: web_images/image_107.jpg, URL: https://upload.wikimedia.org/wikipedia/commons/thumb/1/11/Flag_of_Sri_Lanka.svg/40px-Flag_of_Sri_Lanka.svg.png, Error: Error processing web_images/image_107.jpg: shape '[-1, 200704]' is invalid for input of size 65536\n",
            "Image: web_images/image_108.jpg, URL: https://upload.wikimedia.org/wikipedia/commons/thumb/1/18/WestIndiesCricketFlagPre1999.svg/40px-WestIndiesCricketFlagPre1999.svg.png, Error: Error processing web_images/image_108.jpg: shape '[-1, 200704]' is invalid for input of size 65536\n",
            "Image: web_images/image_109.jpg, URL: https://upload.wikimedia.org/wikipedia/en/thumb/4/41/Flag_of_India.svg/60px-Flag_of_India.svg.png, Error: Error processing web_images/image_109.jpg: shape '[-1, 200704]' is invalid for input of size 65536\n",
            "Image: web_images/image_110.jpg, URL: https://upload.wikimedia.org/wikipedia/en/thumb/4/41/Flag_of_India.svg/60px-Flag_of_India.svg.png, Error: Error processing web_images/image_110.jpg: shape '[-1, 200704]' is invalid for input of size 65536\n",
            "Image: web_images/image_111.jpg, URL: https://upload.wikimedia.org/wikipedia/en/thumb/4/41/Flag_of_India.svg/60px-Flag_of_India.svg.png, Error: Error processing web_images/image_111.jpg: shape '[-1, 200704]' is invalid for input of size 65536\n",
            "Image: web_images/image_112.jpg, URL: https://upload.wikimedia.org/wikipedia/en/thumb/4/41/Flag_of_India.svg/60px-Flag_of_India.svg.png, Error: Error processing web_images/image_112.jpg: shape '[-1, 200704]' is invalid for input of size 65536\n",
            "Image: web_images/image_113.jpg, URL: https://upload.wikimedia.org/wikipedia/en/thumb/4/41/Flag_of_India.svg/60px-Flag_of_India.svg.png, Error: Error processing web_images/image_113.jpg: shape '[-1, 200704]' is invalid for input of size 65536\n",
            "Image: web_images/image_114.jpg, URL: https://upload.wikimedia.org/wikipedia/en/thumb/4/41/Flag_of_India.svg/60px-Flag_of_India.svg.png, Error: Error processing web_images/image_114.jpg: shape '[-1, 200704]' is invalid for input of size 65536\n",
            "Image: web_images/image_115.jpg, URL: https://upload.wikimedia.org/wikipedia/en/thumb/4/41/Flag_of_India.svg/60px-Flag_of_India.svg.png, Error: Error processing web_images/image_115.jpg: shape '[-1, 200704]' is invalid for input of size 65536\n",
            "Image: web_images/image_116.jpg, URL: https://upload.wikimedia.org/wikipedia/en/thumb/4/41/Flag_of_India.svg/60px-Flag_of_India.svg.png, Error: Error processing web_images/image_116.jpg: shape '[-1, 200704]' is invalid for input of size 65536\n",
            "Image: web_images/image_117.jpg, URL: https://upload.wikimedia.org/wikipedia/en/thumb/4/41/Flag_of_India.svg/60px-Flag_of_India.svg.png, Error: Error processing web_images/image_117.jpg: shape '[-1, 200704]' is invalid for input of size 65536\n",
            "Image: web_images/image_118.jpg, URL: https://upload.wikimedia.org/wikipedia/en/thumb/6/69/P_vip.svg/20px-P_vip.svg.png, Error: Error processing web_images/image_118.jpg: shape '[-1, 200704]' is invalid for input of size 65536\n",
            "Image: web_images/image_119.jpg, URL: https://upload.wikimedia.org/wikipedia/en/thumb/4/41/Flag_of_India.svg/40px-Flag_of_India.svg.png, Error: Error processing web_images/image_119.jpg: shape '[-1, 200704]' is invalid for input of size 65536\n",
            "Image: web_images/image_120.jpg, URL: https://upload.wikimedia.org/wikipedia/commons/thumb/b/b0/Cricketball.png/20px-Cricketball.png, Error: Error processing web_images/image_120.jpg: shape '[-1, 200704]' is invalid for input of size 65536\n",
            "Image: web_images/image_121.jpg, URL: https://upload.wikimedia.org/wikipedia/commons/thumb/9/95/Sports_icon.png/40px-Sports_icon.png, Error: Error processing web_images/image_121.jpg: shape '[-1, 200704]' is invalid for input of size 65536\n",
            "Image: web_images/image_122.jpg, URL: https://upload.wikimedia.org/wikipedia/en/thumb/8/8a/OOjs_UI_icon_edit-ltr-progressive.svg/20px-OOjs_UI_icon_edit-ltr-progressive.svg.png, Error: Error processing web_images/image_122.jpg: shape '[-1, 200704]' is invalid for input of size 65536\n"
          ]
        }
      ],
      "source": [
        "for image_path, image_url in image_paths_urls:\n",
        "    predicted_class, confidence = predict_image(image_path, model, transform, device)\n",
        "    if predicted_class:\n",
        "        print(f\"Image: {image_path}, URL: {image_url}, Predicted: {predicted_class}, Confidence: {confidence:.4f}\")\n",
        "    else:\n",
        "        print(f\"Image: {image_path}, URL: {image_url}, Error: {confidence}\")"
      ]
    },
    {
      "cell_type": "code",
      "execution_count": null,
      "metadata": {
        "colab": {
          "base_uri": "https://localhost:8080/"
        },
        "id": "yOdhnDmyNBz_",
        "outputId": "f605d0ae-2f24-48e4-9786-6dde7da2fed5"
      },
      "outputs": [
        {
          "name": "stdout",
          "output_type": "stream",
          "text": [
            "Collecting pdf2image\n",
            "  Downloading pdf2image-1.17.0-py3-none-any.whl.metadata (6.2 kB)\n",
            "Requirement already satisfied: pillow in /usr/local/lib/python3.11/dist-packages (from pdf2image) (11.3.0)\n",
            "Downloading pdf2image-1.17.0-py3-none-any.whl (11 kB)\n",
            "Installing collected packages: pdf2image\n",
            "Successfully installed pdf2image-1.17.0\n",
            "Reading package lists... Done\n",
            "Building dependency tree... Done\n",
            "Reading state information... Done\n",
            "The following NEW packages will be installed:\n",
            "  poppler-utils\n",
            "0 upgraded, 1 newly installed, 0 to remove and 35 not upgraded.\n",
            "Need to get 186 kB of archives.\n",
            "After this operation, 697 kB of additional disk space will be used.\n",
            "Get:1 http://archive.ubuntu.com/ubuntu jammy-updates/main amd64 poppler-utils amd64 22.02.0-2ubuntu0.9 [186 kB]\n",
            "Fetched 186 kB in 1s (216 kB/s)\n",
            "Selecting previously unselected package poppler-utils.\n",
            "(Reading database ... 126284 files and directories currently installed.)\n",
            "Preparing to unpack .../poppler-utils_22.02.0-2ubuntu0.9_amd64.deb ...\n",
            "Unpacking poppler-utils (22.02.0-2ubuntu0.9) ...\n",
            "Setting up poppler-utils (22.02.0-2ubuntu0.9) ...\n",
            "Processing triggers for man-db (2.10.2-1) ...\n"
          ]
        }
      ],
      "source": [
        "!pip install pdf2image\n",
        "!apt-get install -y poppler-utils\n"
      ]
    },
    {
      "cell_type": "code",
      "execution_count": null,
      "metadata": {
        "id": "PabeJJEgNE39"
      },
      "outputs": [],
      "source": [
        "from pdf2image import convert_from_path\n",
        "\n",
        "def extract_images_from_pdf(pdf_files, save_dir=\"pdf_images\"):\n",
        "    if not os.path.exists(save_dir):\n",
        "        os.makedirs(save_dir)\n",
        "\n",
        "    extracted_paths = []\n",
        "    for pdf_file in pdf_files:\n",
        "        try:\n",
        "            # Convert PDF to images\n",
        "            images = convert_from_path(pdf_file)\n",
        "            pdf_name = os.path.basename(pdf_file)\n",
        "            for i, image in enumerate(images):\n",
        "                img_name = os.path.join(save_dir, f'{pdf_name}_page_{i+1}.jpg')\n",
        "                image.save(img_name, 'JPEG')\n",
        "                extracted_paths.append((img_name, None, pdf_name))  # None for URL\n",
        "                print(f\"Extracted: {img_name} from {pdf_name}\")\n",
        "        except Exception as e:\n",
        "            print(f\"Error processing PDF {pdf_file}: {e}\")\n",
        "\n",
        "    return extracted_paths\n"
      ]
    },
    {
      "cell_type": "code",
      "execution_count": null,
      "metadata": {
        "id": "mRraWBj4O2WU"
      },
      "outputs": [],
      "source": [
        "from google.colab import files\n",
        "\n",
        "# Upload PDF files\n",
        "uploaded_pdfs = files.upload()\n",
        "pdf_paths = list(uploaded_pdfs.keys())\n",
        "\n",
        "# Extract and classify\n",
        "extracted_images = extract_images_from_pdf(pdf_paths)\n",
        "\n",
        "for image_path, _, source_pdf in extracted_images:\n",
        "    predicted_class, confidence = predict_image(image_path, model, transform, device)\n",
        "    if predicted_class:\n",
        "        print(f\"Image: {image_path}, Source PDF: {source_pdf}, Predicted: {predicted_class}, Confidence: {confidence:.4f}\")\n",
        "    else:\n",
        "        print(f\"Image: {image_path}, Source PDF: {source_pdf}, Error: {confidence}\")\n"
      ]
    },
    {
      "cell_type": "code",
      "execution_count": null,
      "metadata": {
        "colab": {
          "base_uri": "https://localhost:8080/"
        },
        "collapsed": true,
        "id": "t-B_4HbKO491",
        "outputId": "12068f2c-abb4-4dce-a7bf-38155b4b2461"
      },
      "outputs": [
        {
          "name": "stdout",
          "output_type": "stream",
          "text": [
            "Requirement already satisfied: gradio in /usr/local/lib/python3.11/dist-packages (5.39.0)\n",
            "Requirement already satisfied: pdf2image in /usr/local/lib/python3.11/dist-packages (1.17.0)\n",
            "Requirement already satisfied: aiofiles<25.0,>=22.0 in /usr/local/lib/python3.11/dist-packages (from gradio) (24.1.0)\n",
            "Requirement already satisfied: anyio<5.0,>=3.0 in /usr/local/lib/python3.11/dist-packages (from gradio) (4.9.0)\n",
            "Requirement already satisfied: brotli>=1.1.0 in /usr/local/lib/python3.11/dist-packages (from gradio) (1.1.0)\n",
            "Requirement already satisfied: fastapi<1.0,>=0.115.2 in /usr/local/lib/python3.11/dist-packages (from gradio) (0.116.1)\n",
            "Requirement already satisfied: ffmpy in /usr/local/lib/python3.11/dist-packages (from gradio) (0.6.1)\n",
            "Requirement already satisfied: gradio-client==1.11.0 in /usr/local/lib/python3.11/dist-packages (from gradio) (1.11.0)\n",
            "Requirement already satisfied: groovy~=0.1 in /usr/local/lib/python3.11/dist-packages (from gradio) (0.1.2)\n",
            "Requirement already satisfied: httpx<1.0,>=0.24.1 in /usr/local/lib/python3.11/dist-packages (from gradio) (0.28.1)\n",
            "Requirement already satisfied: huggingface-hub<1.0,>=0.33.5 in /usr/local/lib/python3.11/dist-packages (from gradio) (0.34.3)\n",
            "Requirement already satisfied: jinja2<4.0 in /usr/local/lib/python3.11/dist-packages (from gradio) (3.1.6)\n",
            "Requirement already satisfied: markupsafe<4.0,>=2.0 in /usr/local/lib/python3.11/dist-packages (from gradio) (3.0.2)\n",
            "Requirement already satisfied: numpy<3.0,>=1.0 in /usr/local/lib/python3.11/dist-packages (from gradio) (2.0.2)\n",
            "Requirement already satisfied: orjson~=3.0 in /usr/local/lib/python3.11/dist-packages (from gradio) (3.11.1)\n",
            "Requirement already satisfied: packaging in /usr/local/lib/python3.11/dist-packages (from gradio) (25.0)\n",
            "Requirement already satisfied: pandas<3.0,>=1.0 in /usr/local/lib/python3.11/dist-packages (from gradio) (2.2.2)\n",
            "Requirement already satisfied: pillow<12.0,>=8.0 in /usr/local/lib/python3.11/dist-packages (from gradio) (11.3.0)\n",
            "Requirement already satisfied: pydantic<2.12,>=2.0 in /usr/local/lib/python3.11/dist-packages (from gradio) (2.11.7)\n",
            "Requirement already satisfied: pydub in /usr/local/lib/python3.11/dist-packages (from gradio) (0.25.1)\n",
            "Requirement already satisfied: python-multipart>=0.0.18 in /usr/local/lib/python3.11/dist-packages (from gradio) (0.0.20)\n",
            "Requirement already satisfied: pyyaml<7.0,>=5.0 in /usr/local/lib/python3.11/dist-packages (from gradio) (6.0.2)\n",
            "Requirement already satisfied: ruff>=0.9.3 in /usr/local/lib/python3.11/dist-packages (from gradio) (0.12.7)\n",
            "Requirement already satisfied: safehttpx<0.2.0,>=0.1.6 in /usr/local/lib/python3.11/dist-packages (from gradio) (0.1.6)\n",
            "Requirement already satisfied: semantic-version~=2.0 in /usr/local/lib/python3.11/dist-packages (from gradio) (2.10.0)\n",
            "Requirement already satisfied: starlette<1.0,>=0.40.0 in /usr/local/lib/python3.11/dist-packages (from gradio) (0.47.2)\n",
            "Requirement already satisfied: tomlkit<0.14.0,>=0.12.0 in /usr/local/lib/python3.11/dist-packages (from gradio) (0.13.3)\n",
            "Requirement already satisfied: typer<1.0,>=0.12 in /usr/local/lib/python3.11/dist-packages (from gradio) (0.16.0)\n",
            "Requirement already satisfied: typing-extensions~=4.0 in /usr/local/lib/python3.11/dist-packages (from gradio) (4.14.1)\n",
            "Requirement already satisfied: uvicorn>=0.14.0 in /usr/local/lib/python3.11/dist-packages (from gradio) (0.35.0)\n",
            "Requirement already satisfied: fsspec in /usr/local/lib/python3.11/dist-packages (from gradio-client==1.11.0->gradio) (2025.3.0)\n",
            "Requirement already satisfied: websockets<16.0,>=10.0 in /usr/local/lib/python3.11/dist-packages (from gradio-client==1.11.0->gradio) (15.0.1)\n",
            "Requirement already satisfied: idna>=2.8 in /usr/local/lib/python3.11/dist-packages (from anyio<5.0,>=3.0->gradio) (3.10)\n",
            "Requirement already satisfied: sniffio>=1.1 in /usr/local/lib/python3.11/dist-packages (from anyio<5.0,>=3.0->gradio) (1.3.1)\n",
            "Requirement already satisfied: certifi in /usr/local/lib/python3.11/dist-packages (from httpx<1.0,>=0.24.1->gradio) (2025.7.14)\n",
            "Requirement already satisfied: httpcore==1.* in /usr/local/lib/python3.11/dist-packages (from httpx<1.0,>=0.24.1->gradio) (1.0.9)\n",
            "Requirement already satisfied: h11>=0.16 in /usr/local/lib/python3.11/dist-packages (from httpcore==1.*->httpx<1.0,>=0.24.1->gradio) (0.16.0)\n",
            "Requirement already satisfied: filelock in /usr/local/lib/python3.11/dist-packages (from huggingface-hub<1.0,>=0.33.5->gradio) (3.18.0)\n",
            "Requirement already satisfied: requests in /usr/local/lib/python3.11/dist-packages (from huggingface-hub<1.0,>=0.33.5->gradio) (2.32.3)\n",
            "Requirement already satisfied: tqdm>=4.42.1 in /usr/local/lib/python3.11/dist-packages (from huggingface-hub<1.0,>=0.33.5->gradio) (4.67.1)\n",
            "Requirement already satisfied: hf-xet<2.0.0,>=1.1.3 in /usr/local/lib/python3.11/dist-packages (from huggingface-hub<1.0,>=0.33.5->gradio) (1.1.5)\n",
            "Requirement already satisfied: python-dateutil>=2.8.2 in /usr/local/lib/python3.11/dist-packages (from pandas<3.0,>=1.0->gradio) (2.9.0.post0)\n",
            "Requirement already satisfied: pytz>=2020.1 in /usr/local/lib/python3.11/dist-packages (from pandas<3.0,>=1.0->gradio) (2025.2)\n",
            "Requirement already satisfied: tzdata>=2022.7 in /usr/local/lib/python3.11/dist-packages (from pandas<3.0,>=1.0->gradio) (2025.2)\n",
            "Requirement already satisfied: annotated-types>=0.6.0 in /usr/local/lib/python3.11/dist-packages (from pydantic<2.12,>=2.0->gradio) (0.7.0)\n",
            "Requirement already satisfied: pydantic-core==2.33.2 in /usr/local/lib/python3.11/dist-packages (from pydantic<2.12,>=2.0->gradio) (2.33.2)\n",
            "Requirement already satisfied: typing-inspection>=0.4.0 in /usr/local/lib/python3.11/dist-packages (from pydantic<2.12,>=2.0->gradio) (0.4.1)\n",
            "Requirement already satisfied: click>=8.0.0 in /usr/local/lib/python3.11/dist-packages (from typer<1.0,>=0.12->gradio) (8.2.1)\n",
            "Requirement already satisfied: shellingham>=1.3.0 in /usr/local/lib/python3.11/dist-packages (from typer<1.0,>=0.12->gradio) (1.5.4)\n",
            "Requirement already satisfied: rich>=10.11.0 in /usr/local/lib/python3.11/dist-packages (from typer<1.0,>=0.12->gradio) (13.9.4)\n",
            "Requirement already satisfied: six>=1.5 in /usr/local/lib/python3.11/dist-packages (from python-dateutil>=2.8.2->pandas<3.0,>=1.0->gradio) (1.17.0)\n",
            "Requirement already satisfied: markdown-it-py>=2.2.0 in /usr/local/lib/python3.11/dist-packages (from rich>=10.11.0->typer<1.0,>=0.12->gradio) (3.0.0)\n",
            "Requirement already satisfied: pygments<3.0.0,>=2.13.0 in /usr/local/lib/python3.11/dist-packages (from rich>=10.11.0->typer<1.0,>=0.12->gradio) (2.19.2)\n",
            "Requirement already satisfied: charset-normalizer<4,>=2 in /usr/local/lib/python3.11/dist-packages (from requests->huggingface-hub<1.0,>=0.33.5->gradio) (3.4.2)\n",
            "Requirement already satisfied: urllib3<3,>=1.21.1 in /usr/local/lib/python3.11/dist-packages (from requests->huggingface-hub<1.0,>=0.33.5->gradio) (2.5.0)\n",
            "Requirement already satisfied: mdurl~=0.1 in /usr/local/lib/python3.11/dist-packages (from markdown-it-py>=2.2.0->rich>=10.11.0->typer<1.0,>=0.12->gradio) (0.1.2)\n",
            "Reading package lists... Done\n",
            "Building dependency tree... Done\n",
            "Reading state information... Done\n",
            "poppler-utils is already the newest version (22.02.0-2ubuntu0.9).\n",
            "0 upgraded, 0 newly installed, 0 to remove and 35 not upgraded.\n"
          ]
        }
      ],
      "source": [
        "!pip install gradio pdf2image\n",
        "!apt-get install -y poppler-utils\n"
      ]
    },
    {
      "cell_type": "markdown",
      "metadata": {
        "id": "mxwvmcu0SKwQ"
      },
      "source": [
        "Implementing a simple UI for the task using Gradio"
      ]
    },
    {
      "cell_type": "code",
      "execution_count": null,
      "metadata": {
        "id": "x4llmbWYO7IP"
      },
      "outputs": [],
      "source": [
        "import gradio as gr\n",
        "from pdf2image import convert_from_path\n",
        "import os\n",
        "import tempfile\n",
        "from PIL import Image\n",
        "\n",
        "# Assume these are already defined and imported:\n",
        "# - predict_image(image_path, model, transform, device)\n",
        "# - download_images_from_url(url) → returns List[(img_path, img_url)]\n",
        "# - extract_images_from_pdf(pdf_paths) → returns List[(img_path, page_num, pdfname)]\n",
        "\n",
        "# 🔹 Predict for Single Image Upload\n",
        "def predict_single_image(image):\n",
        "    if image is None:\n",
        "        return []\n",
        "\n",
        "    with tempfile.NamedTemporaryFile(delete=False, suffix=\".jpg\") as temp_file:\n",
        "        temp_path = temp_file.name\n",
        "        image.save(temp_path)\n",
        "\n",
        "    pred, conf = predict_image(temp_path, model, transform, device)\n",
        "    return [(temp_path, f\"{pred} ({conf:.2f})\")]\n",
        "\n",
        "# 🔹 Predict from URL (Scrape and classify multiple images)\n",
        "def predict_from_url(url):\n",
        "    results = []\n",
        "    image_paths = download_images_from_url(url)\n",
        "\n",
        "    for img_path, img_url in image_paths:  # limit for performance\n",
        "        pred, conf = predict_image(img_path, model, transform, device)\n",
        "        results.append((img_path, f\"{pred} ({conf:.2f})\"))\n",
        "    return results\n",
        "\n",
        "# 🔹 Predict from PDF (Extract images and classify)\n",
        "def predict_from_pdf(pdf):\n",
        "    if pdf is None:\n",
        "        return []\n",
        "\n",
        "    with open(\"temp.pdf\", \"wb\") as f:\n",
        "        f.write(pdf.read())\n",
        "\n",
        "    extracted = extract_images_from_pdf([\"temp.pdf\"])\n",
        "    results = []\n",
        "    for img_path, _, _ in extracted:  # Limit for speed\n",
        "        pred, conf = predict_image(img_path, model, transform, device)\n",
        "        results.append((img_path, f\"{pred} ({conf:.2f})\"))\n",
        "    return results\n"
      ]
    },
    {
      "cell_type": "code",
      "execution_count": null,
      "metadata": {
        "colab": {
          "base_uri": "https://localhost:8080/",
          "height": 646
        },
        "id": "pbH1eJ3-O87L",
        "outputId": "791e3a07-226d-4c92-b44d-77ceee8cb5f8"
      },
      "outputs": [
        {
          "name": "stdout",
          "output_type": "stream",
          "text": [
            "It looks like you are running Gradio on a hosted Jupyter notebook, which requires `share=True`. Automatically setting `share=True` (you can turn this off by setting `share=False` in `launch()` explicitly).\n",
            "\n",
            "Colab notebook detected. To show errors in colab notebook, set debug=True in launch()\n",
            "* Running on public URL: https://f202b9e3ec09eaf598.gradio.live\n",
            "\n",
            "This share link expires in 1 week. For free permanent hosting and GPU upgrades, run `gradio deploy` from the terminal in the working directory to deploy to Hugging Face Spaces (https://huggingface.co/spaces)\n"
          ]
        },
        {
          "data": {
            "text/html": [
              "<div><iframe src=\"https://f202b9e3ec09eaf598.gradio.live\" width=\"100%\" height=\"500\" allow=\"autoplay; camera; microphone; clipboard-read; clipboard-write;\" frameborder=\"0\" allowfullscreen></iframe></div>"
            ],
            "text/plain": [
              "<IPython.core.display.HTML object>"
            ]
          },
          "metadata": {},
          "output_type": "display_data"
        },
        {
          "data": {
            "text/plain": []
          },
          "execution_count": 43,
          "metadata": {},
          "output_type": "execute_result"
        }
      ],
      "source": [
        "with gr.Blocks() as demo:\n",
        "    gr.Markdown(\"### 🩻 Medical vs Non-Medical Image Classifier\")\n",
        "\n",
        "    with gr.Tab(\"Single Image Upload\"):\n",
        "        img_input = gr.Image(type=\"pil\")\n",
        "        img_btn = gr.Button(\"Classify Image\")\n",
        "        img_out = gr.Gallery(label=\"Prediction\", show_label=True, columns=3, height=300)\n",
        "\n",
        "\n",
        "    with gr.Tab(\"From URL\"):\n",
        "        url_input = gr.Textbox(label=\"Enter Web Page URL\")\n",
        "        url_btn = gr.Button(\"Fetch & Classify\")\n",
        "        url_out = gr.Gallery(label=\"Predictions\", show_label=True, columns=3, height=300)\n",
        "\n",
        "\n",
        "    with gr.Tab(\"From PDF\"):\n",
        "        pdf_input = gr.File(file_types=[\".pdf\"], label=\"Upload PDF\")\n",
        "        pdf_btn = gr.Button(\"Extract & Classify\")\n",
        "        pdf_out = gr.Gallery(label=\"Predictions\", show_label=True)\n",
        "\n",
        "    img_btn.click(fn=predict_single_image, inputs=img_input, outputs=img_out)\n",
        "    url_btn.click(fn=predict_from_url, inputs=url_input, outputs=url_out)\n",
        "    pdf_btn.click(fn=predict_from_pdf, inputs=pdf_input, outputs=pdf_out)\n",
        "\n",
        "demo.launch()\n"
      ]
    },
    {
      "cell_type": "code",
      "execution_count": null,
      "metadata": {
        "id": "L-3mETF8nUwr"
      },
      "outputs": [],
      "source": []
    },
    {
      "cell_type": "code",
      "execution_count": null,
      "metadata": {
        "id": "gWJxLUKIoCWB"
      },
      "outputs": [],
      "source": []
    }
  ],
  "metadata": {
    "accelerator": "GPU",
    "colab": {
      "gpuType": "T4",
      "provenance": [],
      "authorship_tag": "ABX9TyOybalSMqfjz1bv7aZMnoii",
      "include_colab_link": true
    },
    "kernelspec": {
      "display_name": "Python 3",
      "name": "python3"
    },
    "language_info": {
      "name": "python"
    }
  },
  "nbformat": 4,
  "nbformat_minor": 0
}